{
  "nbformat": 4,
  "nbformat_minor": 0,
  "metadata": {
    "colab": {
      "provenance": [],
      "collapsed_sections": [
        "4XPHIvx8IRO2",
        "_UW0y0VM9scs",
        "SBm3FcD6l59G",
        "NZT1XzOq7UZO"
      ]
    },
    "kernelspec": {
      "name": "python3",
      "display_name": "Python 3"
    },
    "language_info": {
      "name": "python"
    }
  },
  "cells": [
    {
      "cell_type": "markdown",
      "source": [
        "Author: Tamanna Ananna\n",
        "UNI: ta2642"
      ],
      "metadata": {
        "id": "rE2G-xfq7fyT"
      }
    },
    {
      "cell_type": "code",
      "source": [
        "!pip install -U keras-tuner"
      ],
      "metadata": {
        "colab": {
          "base_uri": "https://localhost:8080/"
        },
        "id": "1Lz6X0Wq_GVD",
        "outputId": "3386c8a4-5c65-41ab-a6a4-9cb6890e2a79"
      },
      "execution_count": 1,
      "outputs": [
        {
          "output_type": "stream",
          "name": "stdout",
          "text": [
            "Looking in indexes: https://pypi.org/simple, https://us-python.pkg.dev/colab-wheels/public/simple/\n",
            "Collecting keras-tuner\n",
            "  Downloading keras_tuner-1.1.3-py3-none-any.whl (135 kB)\n",
            "\u001b[K     |████████████████████████████████| 135 kB 4.2 MB/s \n",
            "\u001b[?25hRequirement already satisfied: numpy in /usr/local/lib/python3.8/dist-packages (from keras-tuner) (1.21.6)\n",
            "Requirement already satisfied: packaging in /usr/local/lib/python3.8/dist-packages (from keras-tuner) (21.3)\n",
            "Requirement already satisfied: tensorboard in /usr/local/lib/python3.8/dist-packages (from keras-tuner) (2.9.1)\n",
            "Collecting kt-legacy\n",
            "  Downloading kt_legacy-1.0.4-py3-none-any.whl (9.6 kB)\n",
            "Requirement already satisfied: requests in /usr/local/lib/python3.8/dist-packages (from keras-tuner) (2.23.0)\n",
            "Requirement already satisfied: ipython in /usr/local/lib/python3.8/dist-packages (from keras-tuner) (7.9.0)\n",
            "Requirement already satisfied: decorator in /usr/local/lib/python3.8/dist-packages (from ipython->keras-tuner) (4.4.2)\n",
            "Requirement already satisfied: pygments in /usr/local/lib/python3.8/dist-packages (from ipython->keras-tuner) (2.6.1)\n",
            "Requirement already satisfied: backcall in /usr/local/lib/python3.8/dist-packages (from ipython->keras-tuner) (0.2.0)\n",
            "Requirement already satisfied: prompt-toolkit<2.1.0,>=2.0.0 in /usr/local/lib/python3.8/dist-packages (from ipython->keras-tuner) (2.0.10)\n",
            "Requirement already satisfied: pickleshare in /usr/local/lib/python3.8/dist-packages (from ipython->keras-tuner) (0.7.5)\n",
            "Requirement already satisfied: traitlets>=4.2 in /usr/local/lib/python3.8/dist-packages (from ipython->keras-tuner) (5.7.1)\n",
            "Requirement already satisfied: setuptools>=18.5 in /usr/local/lib/python3.8/dist-packages (from ipython->keras-tuner) (57.4.0)\n",
            "Requirement already satisfied: pexpect in /usr/local/lib/python3.8/dist-packages (from ipython->keras-tuner) (4.8.0)\n",
            "Collecting jedi>=0.10\n",
            "  Downloading jedi-0.18.2-py2.py3-none-any.whl (1.6 MB)\n",
            "\u001b[K     |████████████████████████████████| 1.6 MB 32.0 MB/s \n",
            "\u001b[?25hRequirement already satisfied: parso<0.9.0,>=0.8.0 in /usr/local/lib/python3.8/dist-packages (from jedi>=0.10->ipython->keras-tuner) (0.8.3)\n",
            "Requirement already satisfied: six>=1.9.0 in /usr/local/lib/python3.8/dist-packages (from prompt-toolkit<2.1.0,>=2.0.0->ipython->keras-tuner) (1.15.0)\n",
            "Requirement already satisfied: wcwidth in /usr/local/lib/python3.8/dist-packages (from prompt-toolkit<2.1.0,>=2.0.0->ipython->keras-tuner) (0.2.5)\n",
            "Requirement already satisfied: pyparsing!=3.0.5,>=2.0.2 in /usr/local/lib/python3.8/dist-packages (from packaging->keras-tuner) (3.0.9)\n",
            "Requirement already satisfied: ptyprocess>=0.5 in /usr/local/lib/python3.8/dist-packages (from pexpect->ipython->keras-tuner) (0.7.0)\n",
            "Requirement already satisfied: chardet<4,>=3.0.2 in /usr/local/lib/python3.8/dist-packages (from requests->keras-tuner) (3.0.4)\n",
            "Requirement already satisfied: idna<3,>=2.5 in /usr/local/lib/python3.8/dist-packages (from requests->keras-tuner) (2.10)\n",
            "Requirement already satisfied: urllib3!=1.25.0,!=1.25.1,<1.26,>=1.21.1 in /usr/local/lib/python3.8/dist-packages (from requests->keras-tuner) (1.24.3)\n",
            "Requirement already satisfied: certifi>=2017.4.17 in /usr/local/lib/python3.8/dist-packages (from requests->keras-tuner) (2022.12.7)\n",
            "Requirement already satisfied: markdown>=2.6.8 in /usr/local/lib/python3.8/dist-packages (from tensorboard->keras-tuner) (3.4.1)\n",
            "Requirement already satisfied: werkzeug>=1.0.1 in /usr/local/lib/python3.8/dist-packages (from tensorboard->keras-tuner) (1.0.1)\n",
            "Requirement already satisfied: protobuf<3.20,>=3.9.2 in /usr/local/lib/python3.8/dist-packages (from tensorboard->keras-tuner) (3.19.6)\n",
            "Requirement already satisfied: google-auth-oauthlib<0.5,>=0.4.1 in /usr/local/lib/python3.8/dist-packages (from tensorboard->keras-tuner) (0.4.6)\n",
            "Requirement already satisfied: tensorboard-data-server<0.7.0,>=0.6.0 in /usr/local/lib/python3.8/dist-packages (from tensorboard->keras-tuner) (0.6.1)\n",
            "Requirement already satisfied: google-auth<3,>=1.6.3 in /usr/local/lib/python3.8/dist-packages (from tensorboard->keras-tuner) (2.15.0)\n",
            "Requirement already satisfied: tensorboard-plugin-wit>=1.6.0 in /usr/local/lib/python3.8/dist-packages (from tensorboard->keras-tuner) (1.8.1)\n",
            "Requirement already satisfied: absl-py>=0.4 in /usr/local/lib/python3.8/dist-packages (from tensorboard->keras-tuner) (1.3.0)\n",
            "Requirement already satisfied: grpcio>=1.24.3 in /usr/local/lib/python3.8/dist-packages (from tensorboard->keras-tuner) (1.51.1)\n",
            "Requirement already satisfied: wheel>=0.26 in /usr/local/lib/python3.8/dist-packages (from tensorboard->keras-tuner) (0.38.4)\n",
            "Requirement already satisfied: pyasn1-modules>=0.2.1 in /usr/local/lib/python3.8/dist-packages (from google-auth<3,>=1.6.3->tensorboard->keras-tuner) (0.2.8)\n",
            "Requirement already satisfied: cachetools<6.0,>=2.0.0 in /usr/local/lib/python3.8/dist-packages (from google-auth<3,>=1.6.3->tensorboard->keras-tuner) (5.2.0)\n",
            "Requirement already satisfied: rsa<5,>=3.1.4 in /usr/local/lib/python3.8/dist-packages (from google-auth<3,>=1.6.3->tensorboard->keras-tuner) (4.9)\n",
            "Requirement already satisfied: requests-oauthlib>=0.7.0 in /usr/local/lib/python3.8/dist-packages (from google-auth-oauthlib<0.5,>=0.4.1->tensorboard->keras-tuner) (1.3.1)\n",
            "Requirement already satisfied: importlib-metadata>=4.4 in /usr/local/lib/python3.8/dist-packages (from markdown>=2.6.8->tensorboard->keras-tuner) (5.1.0)\n",
            "Requirement already satisfied: zipp>=0.5 in /usr/local/lib/python3.8/dist-packages (from importlib-metadata>=4.4->markdown>=2.6.8->tensorboard->keras-tuner) (3.11.0)\n",
            "Requirement already satisfied: pyasn1<0.5.0,>=0.4.6 in /usr/local/lib/python3.8/dist-packages (from pyasn1-modules>=0.2.1->google-auth<3,>=1.6.3->tensorboard->keras-tuner) (0.4.8)\n",
            "Requirement already satisfied: oauthlib>=3.0.0 in /usr/local/lib/python3.8/dist-packages (from requests-oauthlib>=0.7.0->google-auth-oauthlib<0.5,>=0.4.1->tensorboard->keras-tuner) (3.2.2)\n",
            "Installing collected packages: jedi, kt-legacy, keras-tuner\n",
            "Successfully installed jedi-0.18.2 keras-tuner-1.1.3 kt-legacy-1.0.4\n"
          ]
        }
      ]
    },
    {
      "cell_type": "code",
      "execution_count": 2,
      "metadata": {
        "id": "Hp7nVZ9i5ZAe"
      },
      "outputs": [],
      "source": [
        "import numpy as np\n",
        "import pandas as pd\n",
        "import tensorflow as tf\n",
        "from tensorflow import keras\n",
        "import keras_tuner as kt"
      ]
    },
    {
      "cell_type": "markdown",
      "source": [
        "# Mount Google Drive"
      ],
      "metadata": {
        "id": "J9OapdRU5wR7"
      }
    },
    {
      "cell_type": "code",
      "source": [
        "from google.colab import drive\n",
        "\n",
        "# The following command will prompt a URL for you to click and obtain the\n",
        "# authorization code\n",
        "\n",
        "drive.mount(\"/content/drive\")"
      ],
      "metadata": {
        "colab": {
          "base_uri": "https://localhost:8080/"
        },
        "id": "I9-QKwlK5zqL",
        "outputId": "4b113447-8b1a-47fd-9096-92e83288ac75"
      },
      "execution_count": 3,
      "outputs": [
        {
          "output_type": "stream",
          "name": "stdout",
          "text": [
            "Mounted at /content/drive\n"
          ]
        }
      ]
    },
    {
      "cell_type": "code",
      "source": [
        "# Set data file location\n",
        "\n",
        "from pathlib import Path\n",
        "\n",
        "DATA = Path(\"/content/drive/My Drive/2022 ECBM E4060/data\")"
      ],
      "metadata": {
        "id": "eUeIwLtf56kG"
      },
      "execution_count": 33,
      "outputs": []
    },
    {
      "cell_type": "code",
      "source": [
        "training_data = \"Training_data.csv\"\n",
        "train = pd.read_csv(DATA/training_data)\n",
        "train.head()"
      ],
      "metadata": {
        "colab": {
          "base_uri": "https://localhost:8080/",
          "height": 317
        },
        "id": "ZXZWHkGL6U6-",
        "outputId": "44da56dd-929f-4bb9-f9dd-163eb25bcbed"
      },
      "execution_count": 86,
      "outputs": [
        {
          "output_type": "execute_result",
          "data": {
            "text/plain": [
              "  CELL_LINE_NAME       DRUG_NAME     KRT19     TGFBI       FN1       VIM  \\\n",
              "0          22RV1  5-Fluorouracil  8.042207  1.070389  3.344828  3.049631   \n",
              "1          22RV1          ABT737  8.042207  1.070389  3.344828  3.049631   \n",
              "2          22RV1        Acetalax  8.042207  1.070389  3.344828  3.049631   \n",
              "3          22RV1        Afatinib  8.042207  1.070389  3.344828  3.049631   \n",
              "4          22RV1     Afuresertib  8.042207  1.070389  3.344828  3.049631   \n",
              "\n",
              "     CD24P4     SPARC   S100A16    UCHL1  ...       X92       X93       X94  \\\n",
              "0  3.942984  0.669027  0.871844  2.06695  ... -0.011703 -0.414060  0.061474   \n",
              "1  3.942984  0.669027  0.871844  2.06695  ... -0.113681  0.204337 -0.150768   \n",
              "2  3.942984  0.669027  0.871844  2.06695  ...  0.079674  0.481107 -0.289358   \n",
              "3  3.942984  0.669027  0.871844  2.06695  ... -0.019880  0.096177  0.073550   \n",
              "4  3.942984  0.669027  0.871844  2.06695  ... -0.151985  0.201704 -0.057129   \n",
              "\n",
              "        X95       X96       X97       X98       X99      X100   LN_IC50  \n",
              "0  0.549070 -0.192303  0.185672 -0.128457  0.024697  0.263466  2.478859  \n",
              "1  0.114594 -0.110021  0.197329 -0.206644 -0.351558  0.035348  3.748055  \n",
              "2  0.153831 -0.011794  0.442237 -0.127095 -0.152633  0.010294 -0.933771  \n",
              "3  0.238451 -0.160336  0.069875 -0.041842 -0.101994  0.249072  2.433064  \n",
              "4  0.264910 -0.087108  0.127217 -0.096696 -0.103081  0.269846  1.463836  \n",
              "\n",
              "[5 rows x 603 columns]"
            ],
            "text/html": [
              "\n",
              "  <div id=\"df-b6ea4f56-63b4-49f7-b57c-6b7381c1012d\">\n",
              "    <div class=\"colab-df-container\">\n",
              "      <div>\n",
              "<style scoped>\n",
              "    .dataframe tbody tr th:only-of-type {\n",
              "        vertical-align: middle;\n",
              "    }\n",
              "\n",
              "    .dataframe tbody tr th {\n",
              "        vertical-align: top;\n",
              "    }\n",
              "\n",
              "    .dataframe thead th {\n",
              "        text-align: right;\n",
              "    }\n",
              "</style>\n",
              "<table border=\"1\" class=\"dataframe\">\n",
              "  <thead>\n",
              "    <tr style=\"text-align: right;\">\n",
              "      <th></th>\n",
              "      <th>CELL_LINE_NAME</th>\n",
              "      <th>DRUG_NAME</th>\n",
              "      <th>KRT19</th>\n",
              "      <th>TGFBI</th>\n",
              "      <th>FN1</th>\n",
              "      <th>VIM</th>\n",
              "      <th>CD24P4</th>\n",
              "      <th>SPARC</th>\n",
              "      <th>S100A16</th>\n",
              "      <th>UCHL1</th>\n",
              "      <th>...</th>\n",
              "      <th>X92</th>\n",
              "      <th>X93</th>\n",
              "      <th>X94</th>\n",
              "      <th>X95</th>\n",
              "      <th>X96</th>\n",
              "      <th>X97</th>\n",
              "      <th>X98</th>\n",
              "      <th>X99</th>\n",
              "      <th>X100</th>\n",
              "      <th>LN_IC50</th>\n",
              "    </tr>\n",
              "  </thead>\n",
              "  <tbody>\n",
              "    <tr>\n",
              "      <th>0</th>\n",
              "      <td>22RV1</td>\n",
              "      <td>5-Fluorouracil</td>\n",
              "      <td>8.042207</td>\n",
              "      <td>1.070389</td>\n",
              "      <td>3.344828</td>\n",
              "      <td>3.049631</td>\n",
              "      <td>3.942984</td>\n",
              "      <td>0.669027</td>\n",
              "      <td>0.871844</td>\n",
              "      <td>2.06695</td>\n",
              "      <td>...</td>\n",
              "      <td>-0.011703</td>\n",
              "      <td>-0.414060</td>\n",
              "      <td>0.061474</td>\n",
              "      <td>0.549070</td>\n",
              "      <td>-0.192303</td>\n",
              "      <td>0.185672</td>\n",
              "      <td>-0.128457</td>\n",
              "      <td>0.024697</td>\n",
              "      <td>0.263466</td>\n",
              "      <td>2.478859</td>\n",
              "    </tr>\n",
              "    <tr>\n",
              "      <th>1</th>\n",
              "      <td>22RV1</td>\n",
              "      <td>ABT737</td>\n",
              "      <td>8.042207</td>\n",
              "      <td>1.070389</td>\n",
              "      <td>3.344828</td>\n",
              "      <td>3.049631</td>\n",
              "      <td>3.942984</td>\n",
              "      <td>0.669027</td>\n",
              "      <td>0.871844</td>\n",
              "      <td>2.06695</td>\n",
              "      <td>...</td>\n",
              "      <td>-0.113681</td>\n",
              "      <td>0.204337</td>\n",
              "      <td>-0.150768</td>\n",
              "      <td>0.114594</td>\n",
              "      <td>-0.110021</td>\n",
              "      <td>0.197329</td>\n",
              "      <td>-0.206644</td>\n",
              "      <td>-0.351558</td>\n",
              "      <td>0.035348</td>\n",
              "      <td>3.748055</td>\n",
              "    </tr>\n",
              "    <tr>\n",
              "      <th>2</th>\n",
              "      <td>22RV1</td>\n",
              "      <td>Acetalax</td>\n",
              "      <td>8.042207</td>\n",
              "      <td>1.070389</td>\n",
              "      <td>3.344828</td>\n",
              "      <td>3.049631</td>\n",
              "      <td>3.942984</td>\n",
              "      <td>0.669027</td>\n",
              "      <td>0.871844</td>\n",
              "      <td>2.06695</td>\n",
              "      <td>...</td>\n",
              "      <td>0.079674</td>\n",
              "      <td>0.481107</td>\n",
              "      <td>-0.289358</td>\n",
              "      <td>0.153831</td>\n",
              "      <td>-0.011794</td>\n",
              "      <td>0.442237</td>\n",
              "      <td>-0.127095</td>\n",
              "      <td>-0.152633</td>\n",
              "      <td>0.010294</td>\n",
              "      <td>-0.933771</td>\n",
              "    </tr>\n",
              "    <tr>\n",
              "      <th>3</th>\n",
              "      <td>22RV1</td>\n",
              "      <td>Afatinib</td>\n",
              "      <td>8.042207</td>\n",
              "      <td>1.070389</td>\n",
              "      <td>3.344828</td>\n",
              "      <td>3.049631</td>\n",
              "      <td>3.942984</td>\n",
              "      <td>0.669027</td>\n",
              "      <td>0.871844</td>\n",
              "      <td>2.06695</td>\n",
              "      <td>...</td>\n",
              "      <td>-0.019880</td>\n",
              "      <td>0.096177</td>\n",
              "      <td>0.073550</td>\n",
              "      <td>0.238451</td>\n",
              "      <td>-0.160336</td>\n",
              "      <td>0.069875</td>\n",
              "      <td>-0.041842</td>\n",
              "      <td>-0.101994</td>\n",
              "      <td>0.249072</td>\n",
              "      <td>2.433064</td>\n",
              "    </tr>\n",
              "    <tr>\n",
              "      <th>4</th>\n",
              "      <td>22RV1</td>\n",
              "      <td>Afuresertib</td>\n",
              "      <td>8.042207</td>\n",
              "      <td>1.070389</td>\n",
              "      <td>3.344828</td>\n",
              "      <td>3.049631</td>\n",
              "      <td>3.942984</td>\n",
              "      <td>0.669027</td>\n",
              "      <td>0.871844</td>\n",
              "      <td>2.06695</td>\n",
              "      <td>...</td>\n",
              "      <td>-0.151985</td>\n",
              "      <td>0.201704</td>\n",
              "      <td>-0.057129</td>\n",
              "      <td>0.264910</td>\n",
              "      <td>-0.087108</td>\n",
              "      <td>0.127217</td>\n",
              "      <td>-0.096696</td>\n",
              "      <td>-0.103081</td>\n",
              "      <td>0.269846</td>\n",
              "      <td>1.463836</td>\n",
              "    </tr>\n",
              "  </tbody>\n",
              "</table>\n",
              "<p>5 rows × 603 columns</p>\n",
              "</div>\n",
              "      <button class=\"colab-df-convert\" onclick=\"convertToInteractive('df-b6ea4f56-63b4-49f7-b57c-6b7381c1012d')\"\n",
              "              title=\"Convert this dataframe to an interactive table.\"\n",
              "              style=\"display:none;\">\n",
              "        \n",
              "  <svg xmlns=\"http://www.w3.org/2000/svg\" height=\"24px\"viewBox=\"0 0 24 24\"\n",
              "       width=\"24px\">\n",
              "    <path d=\"M0 0h24v24H0V0z\" fill=\"none\"/>\n",
              "    <path d=\"M18.56 5.44l.94 2.06.94-2.06 2.06-.94-2.06-.94-.94-2.06-.94 2.06-2.06.94zm-11 1L8.5 8.5l.94-2.06 2.06-.94-2.06-.94L8.5 2.5l-.94 2.06-2.06.94zm10 10l.94 2.06.94-2.06 2.06-.94-2.06-.94-.94-2.06-.94 2.06-2.06.94z\"/><path d=\"M17.41 7.96l-1.37-1.37c-.4-.4-.92-.59-1.43-.59-.52 0-1.04.2-1.43.59L10.3 9.45l-7.72 7.72c-.78.78-.78 2.05 0 2.83L4 21.41c.39.39.9.59 1.41.59.51 0 1.02-.2 1.41-.59l7.78-7.78 2.81-2.81c.8-.78.8-2.07 0-2.86zM5.41 20L4 18.59l7.72-7.72 1.47 1.35L5.41 20z\"/>\n",
              "  </svg>\n",
              "      </button>\n",
              "      \n",
              "  <style>\n",
              "    .colab-df-container {\n",
              "      display:flex;\n",
              "      flex-wrap:wrap;\n",
              "      gap: 12px;\n",
              "    }\n",
              "\n",
              "    .colab-df-convert {\n",
              "      background-color: #E8F0FE;\n",
              "      border: none;\n",
              "      border-radius: 50%;\n",
              "      cursor: pointer;\n",
              "      display: none;\n",
              "      fill: #1967D2;\n",
              "      height: 32px;\n",
              "      padding: 0 0 0 0;\n",
              "      width: 32px;\n",
              "    }\n",
              "\n",
              "    .colab-df-convert:hover {\n",
              "      background-color: #E2EBFA;\n",
              "      box-shadow: 0px 1px 2px rgba(60, 64, 67, 0.3), 0px 1px 3px 1px rgba(60, 64, 67, 0.15);\n",
              "      fill: #174EA6;\n",
              "    }\n",
              "\n",
              "    [theme=dark] .colab-df-convert {\n",
              "      background-color: #3B4455;\n",
              "      fill: #D2E3FC;\n",
              "    }\n",
              "\n",
              "    [theme=dark] .colab-df-convert:hover {\n",
              "      background-color: #434B5C;\n",
              "      box-shadow: 0px 1px 3px 1px rgba(0, 0, 0, 0.15);\n",
              "      filter: drop-shadow(0px 1px 2px rgba(0, 0, 0, 0.3));\n",
              "      fill: #FFFFFF;\n",
              "    }\n",
              "  </style>\n",
              "\n",
              "      <script>\n",
              "        const buttonEl =\n",
              "          document.querySelector('#df-b6ea4f56-63b4-49f7-b57c-6b7381c1012d button.colab-df-convert');\n",
              "        buttonEl.style.display =\n",
              "          google.colab.kernel.accessAllowed ? 'block' : 'none';\n",
              "\n",
              "        async function convertToInteractive(key) {\n",
              "          const element = document.querySelector('#df-b6ea4f56-63b4-49f7-b57c-6b7381c1012d');\n",
              "          const dataTable =\n",
              "            await google.colab.kernel.invokeFunction('convertToInteractive',\n",
              "                                                     [key], {});\n",
              "          if (!dataTable) return;\n",
              "\n",
              "          const docLinkHtml = 'Like what you see? Visit the ' +\n",
              "            '<a target=\"_blank\" href=https://colab.research.google.com/notebooks/data_table.ipynb>data table notebook</a>'\n",
              "            + ' to learn more about interactive tables.';\n",
              "          element.innerHTML = '';\n",
              "          dataTable['output_type'] = 'display_data';\n",
              "          await google.colab.output.renderOutput(dataTable, element);\n",
              "          const docLink = document.createElement('div');\n",
              "          docLink.innerHTML = docLinkHtml;\n",
              "          element.appendChild(docLink);\n",
              "        }\n",
              "      </script>\n",
              "    </div>\n",
              "  </div>\n",
              "  "
            ]
          },
          "metadata": {},
          "execution_count": 86
        }
      ]
    },
    {
      "cell_type": "code",
      "source": [
        "print(train.shape)"
      ],
      "metadata": {
        "colab": {
          "base_uri": "https://localhost:8080/"
        },
        "id": "vPxe_uBd6n7f",
        "outputId": "c2ac74c0-3d42-411b-f9be-46df7c2d39bd"
      },
      "execution_count": 5,
      "outputs": [
        {
          "output_type": "stream",
          "name": "stdout",
          "text": [
            "(80056, 603)\n"
          ]
        }
      ]
    },
    {
      "cell_type": "code",
      "source": [
        "#train.iloc[:,2:-1] #second column to second to last\n",
        "train.iloc[:,-1:] # LN_IC50"
      ],
      "metadata": {
        "colab": {
          "base_uri": "https://localhost:8080/",
          "height": 424
        },
        "id": "YdtIKetiLej5",
        "outputId": "c038058e-8c15-4347-bc35-db936774e86f"
      },
      "execution_count": 6,
      "outputs": [
        {
          "output_type": "execute_result",
          "data": {
            "text/plain": [
              "        LN_IC50\n",
              "0      2.478859\n",
              "1      3.748055\n",
              "2     -0.933771\n",
              "3      2.433064\n",
              "4      1.463836\n",
              "...         ...\n",
              "80051  5.864494\n",
              "80052  5.534174\n",
              "80053  6.484139\n",
              "80054  4.432672\n",
              "80055  5.101493\n",
              "\n",
              "[80056 rows x 1 columns]"
            ],
            "text/html": [
              "\n",
              "  <div id=\"df-7ca04d34-b434-4103-a176-738581ef1558\">\n",
              "    <div class=\"colab-df-container\">\n",
              "      <div>\n",
              "<style scoped>\n",
              "    .dataframe tbody tr th:only-of-type {\n",
              "        vertical-align: middle;\n",
              "    }\n",
              "\n",
              "    .dataframe tbody tr th {\n",
              "        vertical-align: top;\n",
              "    }\n",
              "\n",
              "    .dataframe thead th {\n",
              "        text-align: right;\n",
              "    }\n",
              "</style>\n",
              "<table border=\"1\" class=\"dataframe\">\n",
              "  <thead>\n",
              "    <tr style=\"text-align: right;\">\n",
              "      <th></th>\n",
              "      <th>LN_IC50</th>\n",
              "    </tr>\n",
              "  </thead>\n",
              "  <tbody>\n",
              "    <tr>\n",
              "      <th>0</th>\n",
              "      <td>2.478859</td>\n",
              "    </tr>\n",
              "    <tr>\n",
              "      <th>1</th>\n",
              "      <td>3.748055</td>\n",
              "    </tr>\n",
              "    <tr>\n",
              "      <th>2</th>\n",
              "      <td>-0.933771</td>\n",
              "    </tr>\n",
              "    <tr>\n",
              "      <th>3</th>\n",
              "      <td>2.433064</td>\n",
              "    </tr>\n",
              "    <tr>\n",
              "      <th>4</th>\n",
              "      <td>1.463836</td>\n",
              "    </tr>\n",
              "    <tr>\n",
              "      <th>...</th>\n",
              "      <td>...</td>\n",
              "    </tr>\n",
              "    <tr>\n",
              "      <th>80051</th>\n",
              "      <td>5.864494</td>\n",
              "    </tr>\n",
              "    <tr>\n",
              "      <th>80052</th>\n",
              "      <td>5.534174</td>\n",
              "    </tr>\n",
              "    <tr>\n",
              "      <th>80053</th>\n",
              "      <td>6.484139</td>\n",
              "    </tr>\n",
              "    <tr>\n",
              "      <th>80054</th>\n",
              "      <td>4.432672</td>\n",
              "    </tr>\n",
              "    <tr>\n",
              "      <th>80055</th>\n",
              "      <td>5.101493</td>\n",
              "    </tr>\n",
              "  </tbody>\n",
              "</table>\n",
              "<p>80056 rows × 1 columns</p>\n",
              "</div>\n",
              "      <button class=\"colab-df-convert\" onclick=\"convertToInteractive('df-7ca04d34-b434-4103-a176-738581ef1558')\"\n",
              "              title=\"Convert this dataframe to an interactive table.\"\n",
              "              style=\"display:none;\">\n",
              "        \n",
              "  <svg xmlns=\"http://www.w3.org/2000/svg\" height=\"24px\"viewBox=\"0 0 24 24\"\n",
              "       width=\"24px\">\n",
              "    <path d=\"M0 0h24v24H0V0z\" fill=\"none\"/>\n",
              "    <path d=\"M18.56 5.44l.94 2.06.94-2.06 2.06-.94-2.06-.94-.94-2.06-.94 2.06-2.06.94zm-11 1L8.5 8.5l.94-2.06 2.06-.94-2.06-.94L8.5 2.5l-.94 2.06-2.06.94zm10 10l.94 2.06.94-2.06 2.06-.94-2.06-.94-.94-2.06-.94 2.06-2.06.94z\"/><path d=\"M17.41 7.96l-1.37-1.37c-.4-.4-.92-.59-1.43-.59-.52 0-1.04.2-1.43.59L10.3 9.45l-7.72 7.72c-.78.78-.78 2.05 0 2.83L4 21.41c.39.39.9.59 1.41.59.51 0 1.02-.2 1.41-.59l7.78-7.78 2.81-2.81c.8-.78.8-2.07 0-2.86zM5.41 20L4 18.59l7.72-7.72 1.47 1.35L5.41 20z\"/>\n",
              "  </svg>\n",
              "      </button>\n",
              "      \n",
              "  <style>\n",
              "    .colab-df-container {\n",
              "      display:flex;\n",
              "      flex-wrap:wrap;\n",
              "      gap: 12px;\n",
              "    }\n",
              "\n",
              "    .colab-df-convert {\n",
              "      background-color: #E8F0FE;\n",
              "      border: none;\n",
              "      border-radius: 50%;\n",
              "      cursor: pointer;\n",
              "      display: none;\n",
              "      fill: #1967D2;\n",
              "      height: 32px;\n",
              "      padding: 0 0 0 0;\n",
              "      width: 32px;\n",
              "    }\n",
              "\n",
              "    .colab-df-convert:hover {\n",
              "      background-color: #E2EBFA;\n",
              "      box-shadow: 0px 1px 2px rgba(60, 64, 67, 0.3), 0px 1px 3px 1px rgba(60, 64, 67, 0.15);\n",
              "      fill: #174EA6;\n",
              "    }\n",
              "\n",
              "    [theme=dark] .colab-df-convert {\n",
              "      background-color: #3B4455;\n",
              "      fill: #D2E3FC;\n",
              "    }\n",
              "\n",
              "    [theme=dark] .colab-df-convert:hover {\n",
              "      background-color: #434B5C;\n",
              "      box-shadow: 0px 1px 3px 1px rgba(0, 0, 0, 0.15);\n",
              "      filter: drop-shadow(0px 1px 2px rgba(0, 0, 0, 0.3));\n",
              "      fill: #FFFFFF;\n",
              "    }\n",
              "  </style>\n",
              "\n",
              "      <script>\n",
              "        const buttonEl =\n",
              "          document.querySelector('#df-7ca04d34-b434-4103-a176-738581ef1558 button.colab-df-convert');\n",
              "        buttonEl.style.display =\n",
              "          google.colab.kernel.accessAllowed ? 'block' : 'none';\n",
              "\n",
              "        async function convertToInteractive(key) {\n",
              "          const element = document.querySelector('#df-7ca04d34-b434-4103-a176-738581ef1558');\n",
              "          const dataTable =\n",
              "            await google.colab.kernel.invokeFunction('convertToInteractive',\n",
              "                                                     [key], {});\n",
              "          if (!dataTable) return;\n",
              "\n",
              "          const docLinkHtml = 'Like what you see? Visit the ' +\n",
              "            '<a target=\"_blank\" href=https://colab.research.google.com/notebooks/data_table.ipynb>data table notebook</a>'\n",
              "            + ' to learn more about interactive tables.';\n",
              "          element.innerHTML = '';\n",
              "          dataTable['output_type'] = 'display_data';\n",
              "          await google.colab.output.renderOutput(dataTable, element);\n",
              "          const docLink = document.createElement('div');\n",
              "          docLink.innerHTML = docLinkHtml;\n",
              "          element.appendChild(docLink);\n",
              "        }\n",
              "      </script>\n",
              "    </div>\n",
              "  </div>\n",
              "  "
            ]
          },
          "metadata": {},
          "execution_count": 6
        }
      ]
    },
    {
      "cell_type": "code",
      "source": [
        "train.columns[0]"
      ],
      "metadata": {
        "colab": {
          "base_uri": "https://localhost:8080/",
          "height": 35
        },
        "id": "UsPTXiMQ66zC",
        "outputId": "fa328a2e-5d79-465c-8c2c-68e1e0a9bcaa"
      },
      "execution_count": 7,
      "outputs": [
        {
          "output_type": "execute_result",
          "data": {
            "text/plain": [
              "'CELL_LINE_NAME'"
            ],
            "application/vnd.google.colaboratory.intrinsic+json": {
              "type": "string"
            }
          },
          "metadata": {},
          "execution_count": 7
        }
      ]
    },
    {
      "cell_type": "code",
      "source": [
        "CL = train['CELL_LINE_NAME'].unique()\n",
        "print('unique cell lines: ', len(CL))"
      ],
      "metadata": {
        "colab": {
          "base_uri": "https://localhost:8080/"
        },
        "id": "msA7N6Ft8mSX",
        "outputId": "51f11c24-7665-45d1-9f10-ab5d72132d13"
      },
      "execution_count": 8,
      "outputs": [
        {
          "output_type": "stream",
          "name": "stdout",
          "text": [
            "unique cell lines:  550\n"
          ]
        }
      ]
    },
    {
      "cell_type": "code",
      "source": [
        "DN = train['DRUG_NAME'].unique()\n",
        "print('unique drugs: ', len(DN))"
      ],
      "metadata": {
        "colab": {
          "base_uri": "https://localhost:8080/"
        },
        "id": "-Yf3-lNE9aN-",
        "outputId": "fe6403b6-6c83-4626-c686-fdf0e3f4e905"
      },
      "execution_count": 9,
      "outputs": [
        {
          "output_type": "stream",
          "name": "stdout",
          "text": [
            "unique drugs:  173\n"
          ]
        }
      ]
    },
    {
      "cell_type": "code",
      "source": [
        "train.groupby('CELL_LINE_NAME').size().sort_values().plot()"
      ],
      "metadata": {
        "colab": {
          "base_uri": "https://localhost:8080/",
          "height": 297
        },
        "id": "Uh4LmTLyumW4",
        "outputId": "ae741030-a3f5-47f8-ac9d-bfa5b416a628"
      },
      "execution_count": 10,
      "outputs": [
        {
          "output_type": "execute_result",
          "data": {
            "text/plain": [
              "<matplotlib.axes._subplots.AxesSubplot at 0x7f57daf06bb0>"
            ]
          },
          "metadata": {},
          "execution_count": 10
        },
        {
          "output_type": "display_data",
          "data": {
            "text/plain": [
              "<Figure size 432x288 with 1 Axes>"
            ],
            "image/png": "[encoded data removed]"
          },
          "metadata": {
            "needs_background": "light"
          }
        }
      ]
    },
    {
      "cell_type": "markdown",
      "source": [
        "## Create model & test"
      ],
      "metadata": {
        "id": "_UW0y0VM9scs"
      }
    },
    {
      "cell_type": "markdown",
      "source": [
        "List of hyper parameters:\n",
        "\n",
        "- First Dropout percentage- 0.1 to 0.5\n",
        "- Number of layers, from 2 to 6\n",
        "- Dense layer number of units from 128 to 256 **changed step size**\n",
        "- learning rate\n",
        "\n",
        "\n",
        "\n",
        "```\n",
        "hp.Int('name', min_value = 32, max_value = 512, step = 128)```\n",
        "\n"
      ],
      "metadata": {
        "id": "Bh6U2XYWFoDa"
      }
    },
    {
      "cell_type": "code",
      "source": [
        "from kerastuner.tuners import RandomSearch"
      ],
      "metadata": {
        "colab": {
          "base_uri": "https://localhost:8080/"
        },
        "id": "uQgcQxDV_w14",
        "outputId": "96f37154-b3e2-4d3a-905b-72ff8bb61077"
      },
      "execution_count": null,
      "outputs": [
        {
          "output_type": "stream",
          "name": "stderr",
          "text": [
            "/usr/local/lib/python3.7/dist-packages/ipykernel_launcher.py:1: DeprecationWarning: `import kerastuner` is deprecated, please use `import keras_tuner`.\n",
            "  \"\"\"Entry point for launching an IPython kernel.\n"
          ]
        }
      ]
    },
    {
      "cell_type": "code",
      "source": [
        "##Defining hyper parameters\n",
        "layers_range = (2, 6)\n",
        "units_range = (128, 256, 32)\n",
        "lr_values = [1e-3, 1e-4, 1e-5]"
      ],
      "metadata": {
        "id": "UtZOicnf-Co4"
      },
      "execution_count": null,
      "outputs": []
    },
    {
      "cell_type": "code",
      "source": [
        "directory = Path(\"/content/drive/My Drive/2022 ECBM E4060/log\")\n",
        "project_name = 'Genes'"
      ],
      "metadata": {
        "id": "LtsMOCiYH-Bp"
      },
      "execution_count": null,
      "outputs": []
    },
    {
      "cell_type": "markdown",
      "source": [
        "## MODEL WITH HYPER PARAME"
      ],
      "metadata": {
        "id": "SBm3FcD6l59G"
      }
    },
    {
      "cell_type": "code",
      "source": [
        "#define model building function with hyper parameter function hp as input\n",
        "def build_model(hp):\n",
        "  model = keras.Sequential()\n",
        "  model.add(keras.layers.Dense(600, input_dim=600, activation='relu'))\n",
        "  model.add(keras.layers.Dense(units=512, activation='relu'))\n",
        "  #adds dropout layer- hyperparam- tries from 10 to 50%\n",
        "  model.add(keras.layers.Dropout(\n",
        "            hp.Float(\n",
        "                'dropout',\n",
        "                min_value=0.1,\n",
        "                max_value=0.5,\n",
        "                default=0.1,\n",
        "                step=0.1)))\n",
        "  for i in range(hp.Int('layers', 2,6)):\n",
        "        model.add(keras.layers.Dense(units=hp.Int('units_' + str(i),\n",
        "                                                  min_value=128, max_value=256,\n",
        "                                                  step=32), activation='relu'))\n",
        "        model.add(\n",
        "            keras.layers.Dropout(\n",
        "                hp.Float(\n",
        "                    'dropout',\n",
        "                    min_value=0.1,\n",
        "                    max_value=0.5,\n",
        "                    default=0.1,\n",
        "                    step=0.1)\n",
        "            )\n",
        "        )\n",
        "\n",
        "  model.add(keras.layers.Dense(1))\n",
        "  hp_learning_rate = hp.Choice('learning_rate', values=lr_values)\n",
        "  model.compile(optimizer=keras.optimizers.Adam(learning_rate=hp_learning_rate),\n",
        "                  loss='mean_squared_error')\n",
        "  return model"
      ],
      "metadata": {
        "id": "shAyp2iv9r2M"
      },
      "execution_count": null,
      "outputs": []
    },
    {
      "cell_type": "code",
      "source": [
        "#hyperparam- objective is val loss\n",
        "k = 5\n",
        "for i in range(0,k):\n",
        "  #get the kfold cell lines\n",
        "  val_CL_kfold = train_CL[(i*fold_len) : (i+1)*fold_len]\n",
        "  train_CL_kfold = list(set(train_CL) - set(val_CL_kfold))\n",
        "  \n",
        "  #get the subset from df\n",
        "  train_df = train[train['CELL_LINE_NAME'].isin(train_CL_kfold)]\n",
        "  val_df = train[train['CELL_LINE_NAME'].isin(val_CL_kfold)]\n",
        "\n",
        "  #prepare for model\n",
        "  X_train = train_df.iloc[:, 2:-1]\n",
        "  y_train = train_df['LN_IC50']\n",
        "  X_val = val_df.iloc[:, 2:-1]\n",
        "  y_val = val_df['LN_IC50']\n",
        "  \n",
        "  tuner = kt.Hyperband(build_model,  # the hypermodel\n",
        "                         objective='val_loss',  # objective to optimize\n",
        "                         max_epochs=30,\n",
        "                         factor=3,\n",
        "                         directory=directory,  # directory to save logs\n",
        "                         project_name=project_name + str(i + 1)) #saves weights\n",
        "\n",
        "  stop_early = tf.keras.callbacks.EarlyStopping(monitor='val_loss', patience=5)\n",
        "  \n",
        "  #basically works as model.fit\n",
        "  tuner.search(X_train, y_train, epochs=30, \n",
        "             validation_data=(X_val, y_val), \n",
        "             callbacks=[stop_early])\n",
        "    \n",
        "  best_hp = tuner.get_best_hyperparameters()[0]\n",
        "  best_model = tuner.get_best_models()[0]\n",
        "\n",
        "# Build the model with the optimal hyperparameters\n",
        "  h_model = tuner.hypermodel.build(best_hp)\n",
        "  h_model.fit(X_train, y_train, epochs=50, verbose=1, batch_size=128, validation_data=(X_val, Y_val))\n",
        "  h_model.save('precily_cv_' + str(i + 1) + '.hdf5')\n",
        "  h_model = None\n"
      ],
      "metadata": {
        "colab": {
          "base_uri": "https://localhost:8080/",
          "height": 956
        },
        "id": "k0ge01er8wqu",
        "outputId": "10a59ab0-d7e7-4873-dfc1-470285f4380d"
      },
      "execution_count": null,
      "outputs": [
        {
          "output_type": "stream",
          "name": "stdout",
          "text": [
            "Trial 22 Complete [00h 01m 23s]\n",
            "val_loss: 4.711125373840332\n",
            "\n",
            "Best val_loss So Far: 4.521739959716797\n",
            "Total elapsed time: 00h 25m 26s\n",
            "\n",
            "Search: Running Trial #23\n",
            "\n",
            "Value             |Best Value So Far |Hyperparameter\n",
            "0.5               |0.1               |dropout\n",
            "4                 |3                 |layers\n",
            "256               |160               |units_0\n",
            "160               |192               |units_1\n",
            "1e-05             |0.001             |learning_rate\n",
            "160               |224               |units_2\n",
            "192               |128               |units_3\n",
            "128               |160               |units_4\n",
            "192               |160               |units_5\n",
            "2                 |2                 |tuner/epochs\n",
            "0                 |0                 |tuner/initial_epoch\n",
            "3                 |3                 |tuner/bracket\n",
            "0                 |0                 |tuner/round\n",
            "\n",
            "Epoch 1/2\n",
            "1784/1784 [==============================] - 29s 16ms/step - loss: 18.3573 - val_loss: 9.3467\n",
            "Epoch 2/2\n",
            " 419/1784 [======>.......................] - ETA: 19s - loss: 10.2015"
          ]
        },
        {
          "output_type": "error",
          "ename": "KeyboardInterrupt",
          "evalue": "ignored",
          "traceback": [
            "\u001b[0;31m---------------------------------------------------------------------------\u001b[0m",
            "\u001b[0;31mKeyboardInterrupt\u001b[0m                         Traceback (most recent call last)",
            "\u001b[0;32m<ipython-input-51-34d8f50a292d>\u001b[0m in \u001b[0;36m<module>\u001b[0;34m\u001b[0m\n\u001b[1;32m     28\u001b[0m   tuner.search(X_train, y_train, epochs=30, \n\u001b[1;32m     29\u001b[0m              \u001b[0mvalidation_data\u001b[0m\u001b[0;34m=\u001b[0m\u001b[0;34m(\u001b[0m\u001b[0mX_val\u001b[0m\u001b[0;34m,\u001b[0m \u001b[0my_val\u001b[0m\u001b[0;34m)\u001b[0m\u001b[0;34m,\u001b[0m\u001b[0;34m\u001b[0m\u001b[0;34m\u001b[0m\u001b[0m\n\u001b[0;32m---> 30\u001b[0;31m              callbacks=[stop_early])\n\u001b[0m\u001b[1;32m     31\u001b[0m \u001b[0;34m\u001b[0m\u001b[0m\n\u001b[1;32m     32\u001b[0m   \u001b[0mbest_hp\u001b[0m \u001b[0;34m=\u001b[0m \u001b[0mtuner\u001b[0m\u001b[0;34m.\u001b[0m\u001b[0mget_best_hyperparameters\u001b[0m\u001b[0;34m(\u001b[0m\u001b[0;34m)\u001b[0m\u001b[0;34m[\u001b[0m\u001b[0;36m0\u001b[0m\u001b[0;34m]\u001b[0m\u001b[0;34m\u001b[0m\u001b[0;34m\u001b[0m\u001b[0m\n",
            "\u001b[0;32m/usr/local/lib/python3.7/dist-packages/keras_tuner/engine/base_tuner.py\u001b[0m in \u001b[0;36msearch\u001b[0;34m(self, *fit_args, **fit_kwargs)\u001b[0m\n\u001b[1;32m    181\u001b[0m \u001b[0;34m\u001b[0m\u001b[0m\n\u001b[1;32m    182\u001b[0m             \u001b[0mself\u001b[0m\u001b[0;34m.\u001b[0m\u001b[0mon_trial_begin\u001b[0m\u001b[0;34m(\u001b[0m\u001b[0mtrial\u001b[0m\u001b[0;34m)\u001b[0m\u001b[0;34m\u001b[0m\u001b[0;34m\u001b[0m\u001b[0m\n\u001b[0;32m--> 183\u001b[0;31m             \u001b[0mresults\u001b[0m \u001b[0;34m=\u001b[0m \u001b[0mself\u001b[0m\u001b[0;34m.\u001b[0m\u001b[0mrun_trial\u001b[0m\u001b[0;34m(\u001b[0m\u001b[0mtrial\u001b[0m\u001b[0;34m,\u001b[0m \u001b[0;34m*\u001b[0m\u001b[0mfit_args\u001b[0m\u001b[0;34m,\u001b[0m \u001b[0;34m**\u001b[0m\u001b[0mfit_kwargs\u001b[0m\u001b[0;34m)\u001b[0m\u001b[0;34m\u001b[0m\u001b[0;34m\u001b[0m\u001b[0m\n\u001b[0m\u001b[1;32m    184\u001b[0m             \u001b[0;31m# `results` is None indicates user updated oracle in `run_trial()`.\u001b[0m\u001b[0;34m\u001b[0m\u001b[0;34m\u001b[0m\u001b[0;34m\u001b[0m\u001b[0m\n\u001b[1;32m    185\u001b[0m             \u001b[0;32mif\u001b[0m \u001b[0mresults\u001b[0m \u001b[0;32mis\u001b[0m \u001b[0;32mNone\u001b[0m\u001b[0;34m:\u001b[0m\u001b[0;34m\u001b[0m\u001b[0;34m\u001b[0m\u001b[0m\n",
            "\u001b[0;32m/usr/local/lib/python3.7/dist-packages/keras_tuner/tuners/hyperband.py\u001b[0m in \u001b[0;36mrun_trial\u001b[0;34m(self, trial, *fit_args, **fit_kwargs)\u001b[0m\n\u001b[1;32m    382\u001b[0m             \u001b[0mfit_kwargs\u001b[0m\u001b[0;34m[\u001b[0m\u001b[0;34m\"epochs\"\u001b[0m\u001b[0;34m]\u001b[0m \u001b[0;34m=\u001b[0m \u001b[0mhp\u001b[0m\u001b[0;34m.\u001b[0m\u001b[0mvalues\u001b[0m\u001b[0;34m[\u001b[0m\u001b[0;34m\"tuner/epochs\"\u001b[0m\u001b[0;34m]\u001b[0m\u001b[0;34m\u001b[0m\u001b[0;34m\u001b[0m\u001b[0m\n\u001b[1;32m    383\u001b[0m             \u001b[0mfit_kwargs\u001b[0m\u001b[0;34m[\u001b[0m\u001b[0;34m\"initial_epoch\"\u001b[0m\u001b[0;34m]\u001b[0m \u001b[0;34m=\u001b[0m \u001b[0mhp\u001b[0m\u001b[0;34m.\u001b[0m\u001b[0mvalues\u001b[0m\u001b[0;34m[\u001b[0m\u001b[0;34m\"tuner/initial_epoch\"\u001b[0m\u001b[0;34m]\u001b[0m\u001b[0;34m\u001b[0m\u001b[0;34m\u001b[0m\u001b[0m\n\u001b[0;32m--> 384\u001b[0;31m         \u001b[0;32mreturn\u001b[0m \u001b[0msuper\u001b[0m\u001b[0;34m(\u001b[0m\u001b[0mHyperband\u001b[0m\u001b[0;34m,\u001b[0m \u001b[0mself\u001b[0m\u001b[0;34m)\u001b[0m\u001b[0;34m.\u001b[0m\u001b[0mrun_trial\u001b[0m\u001b[0;34m(\u001b[0m\u001b[0mtrial\u001b[0m\u001b[0;34m,\u001b[0m \u001b[0;34m*\u001b[0m\u001b[0mfit_args\u001b[0m\u001b[0;34m,\u001b[0m \u001b[0;34m**\u001b[0m\u001b[0mfit_kwargs\u001b[0m\u001b[0;34m)\u001b[0m\u001b[0;34m\u001b[0m\u001b[0;34m\u001b[0m\u001b[0m\n\u001b[0m\u001b[1;32m    385\u001b[0m \u001b[0;34m\u001b[0m\u001b[0m\n\u001b[1;32m    386\u001b[0m     \u001b[0;32mdef\u001b[0m \u001b[0m_build_model\u001b[0m\u001b[0;34m(\u001b[0m\u001b[0mself\u001b[0m\u001b[0;34m,\u001b[0m \u001b[0mhp\u001b[0m\u001b[0;34m)\u001b[0m\u001b[0;34m:\u001b[0m\u001b[0;34m\u001b[0m\u001b[0;34m\u001b[0m\u001b[0m\n",
            "\u001b[0;32m/usr/local/lib/python3.7/dist-packages/keras_tuner/engine/tuner.py\u001b[0m in \u001b[0;36mrun_trial\u001b[0;34m(self, trial, *args, **kwargs)\u001b[0m\n\u001b[1;32m    293\u001b[0m             \u001b[0mcallbacks\u001b[0m\u001b[0;34m.\u001b[0m\u001b[0mappend\u001b[0m\u001b[0;34m(\u001b[0m\u001b[0mmodel_checkpoint\u001b[0m\u001b[0;34m)\u001b[0m\u001b[0;34m\u001b[0m\u001b[0;34m\u001b[0m\u001b[0m\n\u001b[1;32m    294\u001b[0m             \u001b[0mcopied_kwargs\u001b[0m\u001b[0;34m[\u001b[0m\u001b[0;34m\"callbacks\"\u001b[0m\u001b[0;34m]\u001b[0m \u001b[0;34m=\u001b[0m \u001b[0mcallbacks\u001b[0m\u001b[0;34m\u001b[0m\u001b[0;34m\u001b[0m\u001b[0m\n\u001b[0;32m--> 295\u001b[0;31m             \u001b[0mobj_value\u001b[0m \u001b[0;34m=\u001b[0m \u001b[0mself\u001b[0m\u001b[0;34m.\u001b[0m\u001b[0m_build_and_fit_model\u001b[0m\u001b[0;34m(\u001b[0m\u001b[0mtrial\u001b[0m\u001b[0;34m,\u001b[0m \u001b[0;34m*\u001b[0m\u001b[0margs\u001b[0m\u001b[0;34m,\u001b[0m \u001b[0;34m**\u001b[0m\u001b[0mcopied_kwargs\u001b[0m\u001b[0;34m)\u001b[0m\u001b[0;34m\u001b[0m\u001b[0;34m\u001b[0m\u001b[0m\n\u001b[0m\u001b[1;32m    296\u001b[0m \u001b[0;34m\u001b[0m\u001b[0m\n\u001b[1;32m    297\u001b[0m             \u001b[0mhistories\u001b[0m\u001b[0;34m.\u001b[0m\u001b[0mappend\u001b[0m\u001b[0;34m(\u001b[0m\u001b[0mobj_value\u001b[0m\u001b[0;34m)\u001b[0m\u001b[0;34m\u001b[0m\u001b[0;34m\u001b[0m\u001b[0m\n",
            "\u001b[0;32m/usr/local/lib/python3.7/dist-packages/keras_tuner/engine/tuner.py\u001b[0m in \u001b[0;36m_build_and_fit_model\u001b[0;34m(self, trial, *args, **kwargs)\u001b[0m\n\u001b[1;32m    220\u001b[0m         \u001b[0mhp\u001b[0m \u001b[0;34m=\u001b[0m \u001b[0mtrial\u001b[0m\u001b[0;34m.\u001b[0m\u001b[0mhyperparameters\u001b[0m\u001b[0;34m\u001b[0m\u001b[0;34m\u001b[0m\u001b[0m\n\u001b[1;32m    221\u001b[0m         \u001b[0mmodel\u001b[0m \u001b[0;34m=\u001b[0m \u001b[0mself\u001b[0m\u001b[0;34m.\u001b[0m\u001b[0m_try_build\u001b[0m\u001b[0;34m(\u001b[0m\u001b[0mhp\u001b[0m\u001b[0;34m)\u001b[0m\u001b[0;34m\u001b[0m\u001b[0;34m\u001b[0m\u001b[0m\n\u001b[0;32m--> 222\u001b[0;31m         \u001b[0mresults\u001b[0m \u001b[0;34m=\u001b[0m \u001b[0mself\u001b[0m\u001b[0;34m.\u001b[0m\u001b[0mhypermodel\u001b[0m\u001b[0;34m.\u001b[0m\u001b[0mfit\u001b[0m\u001b[0;34m(\u001b[0m\u001b[0mhp\u001b[0m\u001b[0;34m,\u001b[0m \u001b[0mmodel\u001b[0m\u001b[0;34m,\u001b[0m \u001b[0;34m*\u001b[0m\u001b[0margs\u001b[0m\u001b[0;34m,\u001b[0m \u001b[0;34m**\u001b[0m\u001b[0mkwargs\u001b[0m\u001b[0;34m)\u001b[0m\u001b[0;34m\u001b[0m\u001b[0;34m\u001b[0m\u001b[0m\n\u001b[0m\u001b[1;32m    223\u001b[0m         tuner_utils.validate_trial_results(\n\u001b[1;32m    224\u001b[0m             \u001b[0mresults\u001b[0m\u001b[0;34m,\u001b[0m \u001b[0mself\u001b[0m\u001b[0;34m.\u001b[0m\u001b[0moracle\u001b[0m\u001b[0;34m.\u001b[0m\u001b[0mobjective\u001b[0m\u001b[0;34m,\u001b[0m \u001b[0;34m\"HyperModel.fit()\"\u001b[0m\u001b[0;34m\u001b[0m\u001b[0;34m\u001b[0m\u001b[0m\n",
            "\u001b[0;32m/usr/local/lib/python3.7/dist-packages/keras_tuner/engine/hypermodel.py\u001b[0m in \u001b[0;36mfit\u001b[0;34m(self, hp, model, *args, **kwargs)\u001b[0m\n\u001b[1;32m    138\u001b[0m             \u001b[0mIf\u001b[0m \u001b[0;32mreturn\u001b[0m \u001b[0ma\u001b[0m \u001b[0mfloat\u001b[0m\u001b[0;34m,\u001b[0m \u001b[0mit\u001b[0m \u001b[0mshould\u001b[0m \u001b[0mbe\u001b[0m \u001b[0mthe\u001b[0m\u001b[0;31m \u001b[0m\u001b[0;31m`\u001b[0m\u001b[0mobjective\u001b[0m\u001b[0;31m`\u001b[0m \u001b[0mvalue\u001b[0m\u001b[0;34m.\u001b[0m\u001b[0;34m\u001b[0m\u001b[0;34m\u001b[0m\u001b[0m\n\u001b[1;32m    139\u001b[0m         \"\"\"\n\u001b[0;32m--> 140\u001b[0;31m         \u001b[0;32mreturn\u001b[0m \u001b[0mmodel\u001b[0m\u001b[0;34m.\u001b[0m\u001b[0mfit\u001b[0m\u001b[0;34m(\u001b[0m\u001b[0;34m*\u001b[0m\u001b[0margs\u001b[0m\u001b[0;34m,\u001b[0m \u001b[0;34m**\u001b[0m\u001b[0mkwargs\u001b[0m\u001b[0;34m)\u001b[0m\u001b[0;34m\u001b[0m\u001b[0;34m\u001b[0m\u001b[0m\n\u001b[0m\u001b[1;32m    141\u001b[0m \u001b[0;34m\u001b[0m\u001b[0m\n\u001b[1;32m    142\u001b[0m \u001b[0;34m\u001b[0m\u001b[0m\n",
            "\u001b[0;32m/usr/local/lib/python3.7/dist-packages/keras/utils/traceback_utils.py\u001b[0m in \u001b[0;36merror_handler\u001b[0;34m(*args, **kwargs)\u001b[0m\n\u001b[1;32m     62\u001b[0m     \u001b[0mfiltered_tb\u001b[0m \u001b[0;34m=\u001b[0m \u001b[0;32mNone\u001b[0m\u001b[0;34m\u001b[0m\u001b[0;34m\u001b[0m\u001b[0m\n\u001b[1;32m     63\u001b[0m     \u001b[0;32mtry\u001b[0m\u001b[0;34m:\u001b[0m\u001b[0;34m\u001b[0m\u001b[0;34m\u001b[0m\u001b[0m\n\u001b[0;32m---> 64\u001b[0;31m       \u001b[0;32mreturn\u001b[0m \u001b[0mfn\u001b[0m\u001b[0;34m(\u001b[0m\u001b[0;34m*\u001b[0m\u001b[0margs\u001b[0m\u001b[0;34m,\u001b[0m \u001b[0;34m**\u001b[0m\u001b[0mkwargs\u001b[0m\u001b[0;34m)\u001b[0m\u001b[0;34m\u001b[0m\u001b[0;34m\u001b[0m\u001b[0m\n\u001b[0m\u001b[1;32m     65\u001b[0m     \u001b[0;32mexcept\u001b[0m \u001b[0mException\u001b[0m \u001b[0;32mas\u001b[0m \u001b[0me\u001b[0m\u001b[0;34m:\u001b[0m  \u001b[0;31m# pylint: disable=broad-except\u001b[0m\u001b[0;34m\u001b[0m\u001b[0;34m\u001b[0m\u001b[0m\n\u001b[1;32m     66\u001b[0m       \u001b[0mfiltered_tb\u001b[0m \u001b[0;34m=\u001b[0m \u001b[0m_process_traceback_frames\u001b[0m\u001b[0;34m(\u001b[0m\u001b[0me\u001b[0m\u001b[0;34m.\u001b[0m\u001b[0m__traceback__\u001b[0m\u001b[0;34m)\u001b[0m\u001b[0;34m\u001b[0m\u001b[0;34m\u001b[0m\u001b[0m\n",
            "\u001b[0;32m/usr/local/lib/python3.7/dist-packages/keras/engine/training.py\u001b[0m in \u001b[0;36mfit\u001b[0;34m(self, x, y, batch_size, epochs, verbose, callbacks, validation_split, validation_data, shuffle, class_weight, sample_weight, initial_epoch, steps_per_epoch, validation_steps, validation_batch_size, validation_freq, max_queue_size, workers, use_multiprocessing)\u001b[0m\n\u001b[1;32m   1407\u001b[0m                 _r=1):\n\u001b[1;32m   1408\u001b[0m               \u001b[0mcallbacks\u001b[0m\u001b[0;34m.\u001b[0m\u001b[0mon_train_batch_begin\u001b[0m\u001b[0;34m(\u001b[0m\u001b[0mstep\u001b[0m\u001b[0;34m)\u001b[0m\u001b[0;34m\u001b[0m\u001b[0;34m\u001b[0m\u001b[0m\n\u001b[0;32m-> 1409\u001b[0;31m               \u001b[0mtmp_logs\u001b[0m \u001b[0;34m=\u001b[0m \u001b[0mself\u001b[0m\u001b[0;34m.\u001b[0m\u001b[0mtrain_function\u001b[0m\u001b[0;34m(\u001b[0m\u001b[0miterator\u001b[0m\u001b[0;34m)\u001b[0m\u001b[0;34m\u001b[0m\u001b[0;34m\u001b[0m\u001b[0m\n\u001b[0m\u001b[1;32m   1410\u001b[0m               \u001b[0;32mif\u001b[0m \u001b[0mdata_handler\u001b[0m\u001b[0;34m.\u001b[0m\u001b[0mshould_sync\u001b[0m\u001b[0;34m:\u001b[0m\u001b[0;34m\u001b[0m\u001b[0;34m\u001b[0m\u001b[0m\n\u001b[1;32m   1411\u001b[0m                 \u001b[0mcontext\u001b[0m\u001b[0;34m.\u001b[0m\u001b[0masync_wait\u001b[0m\u001b[0;34m(\u001b[0m\u001b[0;34m)\u001b[0m\u001b[0;34m\u001b[0m\u001b[0;34m\u001b[0m\u001b[0m\n",
            "\u001b[0;32m/usr/local/lib/python3.7/dist-packages/tensorflow/python/util/traceback_utils.py\u001b[0m in \u001b[0;36merror_handler\u001b[0;34m(*args, **kwargs)\u001b[0m\n\u001b[1;32m    148\u001b[0m     \u001b[0mfiltered_tb\u001b[0m \u001b[0;34m=\u001b[0m \u001b[0;32mNone\u001b[0m\u001b[0;34m\u001b[0m\u001b[0;34m\u001b[0m\u001b[0m\n\u001b[1;32m    149\u001b[0m     \u001b[0;32mtry\u001b[0m\u001b[0;34m:\u001b[0m\u001b[0;34m\u001b[0m\u001b[0;34m\u001b[0m\u001b[0m\n\u001b[0;32m--> 150\u001b[0;31m       \u001b[0;32mreturn\u001b[0m \u001b[0mfn\u001b[0m\u001b[0;34m(\u001b[0m\u001b[0;34m*\u001b[0m\u001b[0margs\u001b[0m\u001b[0;34m,\u001b[0m \u001b[0;34m**\u001b[0m\u001b[0mkwargs\u001b[0m\u001b[0;34m)\u001b[0m\u001b[0;34m\u001b[0m\u001b[0;34m\u001b[0m\u001b[0m\n\u001b[0m\u001b[1;32m    151\u001b[0m     \u001b[0;32mexcept\u001b[0m \u001b[0mException\u001b[0m \u001b[0;32mas\u001b[0m \u001b[0me\u001b[0m\u001b[0;34m:\u001b[0m\u001b[0;34m\u001b[0m\u001b[0;34m\u001b[0m\u001b[0m\n\u001b[1;32m    152\u001b[0m       \u001b[0mfiltered_tb\u001b[0m \u001b[0;34m=\u001b[0m \u001b[0m_process_traceback_frames\u001b[0m\u001b[0;34m(\u001b[0m\u001b[0me\u001b[0m\u001b[0;34m.\u001b[0m\u001b[0m__traceback__\u001b[0m\u001b[0;34m)\u001b[0m\u001b[0;34m\u001b[0m\u001b[0;34m\u001b[0m\u001b[0m\n",
            "\u001b[0;32m/usr/local/lib/python3.7/dist-packages/tensorflow/python/eager/def_function.py\u001b[0m in \u001b[0;36m__call__\u001b[0;34m(self, *args, **kwds)\u001b[0m\n\u001b[1;32m    913\u001b[0m \u001b[0;34m\u001b[0m\u001b[0m\n\u001b[1;32m    914\u001b[0m       \u001b[0;32mwith\u001b[0m \u001b[0mOptionalXlaContext\u001b[0m\u001b[0;34m(\u001b[0m\u001b[0mself\u001b[0m\u001b[0;34m.\u001b[0m\u001b[0m_jit_compile\u001b[0m\u001b[0;34m)\u001b[0m\u001b[0;34m:\u001b[0m\u001b[0;34m\u001b[0m\u001b[0;34m\u001b[0m\u001b[0m\n\u001b[0;32m--> 915\u001b[0;31m         \u001b[0mresult\u001b[0m \u001b[0;34m=\u001b[0m \u001b[0mself\u001b[0m\u001b[0;34m.\u001b[0m\u001b[0m_call\u001b[0m\u001b[0;34m(\u001b[0m\u001b[0;34m*\u001b[0m\u001b[0margs\u001b[0m\u001b[0;34m,\u001b[0m \u001b[0;34m**\u001b[0m\u001b[0mkwds\u001b[0m\u001b[0;34m)\u001b[0m\u001b[0;34m\u001b[0m\u001b[0;34m\u001b[0m\u001b[0m\n\u001b[0m\u001b[1;32m    916\u001b[0m \u001b[0;34m\u001b[0m\u001b[0m\n\u001b[1;32m    917\u001b[0m       \u001b[0mnew_tracing_count\u001b[0m \u001b[0;34m=\u001b[0m \u001b[0mself\u001b[0m\u001b[0;34m.\u001b[0m\u001b[0mexperimental_get_tracing_count\u001b[0m\u001b[0;34m(\u001b[0m\u001b[0;34m)\u001b[0m\u001b[0;34m\u001b[0m\u001b[0;34m\u001b[0m\u001b[0m\n",
            "\u001b[0;32m/usr/local/lib/python3.7/dist-packages/tensorflow/python/eager/def_function.py\u001b[0m in \u001b[0;36m_call\u001b[0;34m(self, *args, **kwds)\u001b[0m\n\u001b[1;32m    945\u001b[0m       \u001b[0;31m# In this case we have created variables on the first call, so we run the\u001b[0m\u001b[0;34m\u001b[0m\u001b[0;34m\u001b[0m\u001b[0;34m\u001b[0m\u001b[0m\n\u001b[1;32m    946\u001b[0m       \u001b[0;31m# defunned version which is guaranteed to never create variables.\u001b[0m\u001b[0;34m\u001b[0m\u001b[0;34m\u001b[0m\u001b[0;34m\u001b[0m\u001b[0m\n\u001b[0;32m--> 947\u001b[0;31m       \u001b[0;32mreturn\u001b[0m \u001b[0mself\u001b[0m\u001b[0;34m.\u001b[0m\u001b[0m_stateless_fn\u001b[0m\u001b[0;34m(\u001b[0m\u001b[0;34m*\u001b[0m\u001b[0margs\u001b[0m\u001b[0;34m,\u001b[0m \u001b[0;34m**\u001b[0m\u001b[0mkwds\u001b[0m\u001b[0;34m)\u001b[0m  \u001b[0;31m# pylint: disable=not-callable\u001b[0m\u001b[0;34m\u001b[0m\u001b[0;34m\u001b[0m\u001b[0m\n\u001b[0m\u001b[1;32m    948\u001b[0m     \u001b[0;32melif\u001b[0m \u001b[0mself\u001b[0m\u001b[0;34m.\u001b[0m\u001b[0m_stateful_fn\u001b[0m \u001b[0;32mis\u001b[0m \u001b[0;32mnot\u001b[0m \u001b[0;32mNone\u001b[0m\u001b[0;34m:\u001b[0m\u001b[0;34m\u001b[0m\u001b[0;34m\u001b[0m\u001b[0m\n\u001b[1;32m    949\u001b[0m       \u001b[0;31m# Release the lock early so that multiple threads can perform the call\u001b[0m\u001b[0;34m\u001b[0m\u001b[0;34m\u001b[0m\u001b[0;34m\u001b[0m\u001b[0m\n",
            "\u001b[0;32m/usr/local/lib/python3.7/dist-packages/tensorflow/python/eager/function.py\u001b[0m in \u001b[0;36m__call__\u001b[0;34m(self, *args, **kwargs)\u001b[0m\n\u001b[1;32m   2452\u001b[0m        filtered_flat_args) = self._maybe_define_function(args, kwargs)\n\u001b[1;32m   2453\u001b[0m     return graph_function._call_flat(\n\u001b[0;32m-> 2454\u001b[0;31m         filtered_flat_args, captured_inputs=graph_function.captured_inputs)  # pylint: disable=protected-access\n\u001b[0m\u001b[1;32m   2455\u001b[0m \u001b[0;34m\u001b[0m\u001b[0m\n\u001b[1;32m   2456\u001b[0m   \u001b[0;34m@\u001b[0m\u001b[0mproperty\u001b[0m\u001b[0;34m\u001b[0m\u001b[0;34m\u001b[0m\u001b[0m\n",
            "\u001b[0;32m/usr/local/lib/python3.7/dist-packages/tensorflow/python/eager/function.py\u001b[0m in \u001b[0;36m_call_flat\u001b[0;34m(self, args, captured_inputs, cancellation_manager)\u001b[0m\n\u001b[1;32m   1859\u001b[0m       \u001b[0;31m# No tape is watching; skip to running the function.\u001b[0m\u001b[0;34m\u001b[0m\u001b[0;34m\u001b[0m\u001b[0;34m\u001b[0m\u001b[0m\n\u001b[1;32m   1860\u001b[0m       return self._build_call_outputs(self._inference_function.call(\n\u001b[0;32m-> 1861\u001b[0;31m           ctx, args, cancellation_manager=cancellation_manager))\n\u001b[0m\u001b[1;32m   1862\u001b[0m     forward_backward = self._select_forward_and_backward_functions(\n\u001b[1;32m   1863\u001b[0m         \u001b[0margs\u001b[0m\u001b[0;34m,\u001b[0m\u001b[0;34m\u001b[0m\u001b[0;34m\u001b[0m\u001b[0m\n",
            "\u001b[0;32m/usr/local/lib/python3.7/dist-packages/tensorflow/python/eager/function.py\u001b[0m in \u001b[0;36mcall\u001b[0;34m(self, ctx, args, cancellation_manager)\u001b[0m\n\u001b[1;32m    500\u001b[0m               \u001b[0minputs\u001b[0m\u001b[0;34m=\u001b[0m\u001b[0margs\u001b[0m\u001b[0;34m,\u001b[0m\u001b[0;34m\u001b[0m\u001b[0;34m\u001b[0m\u001b[0m\n\u001b[1;32m    501\u001b[0m               \u001b[0mattrs\u001b[0m\u001b[0;34m=\u001b[0m\u001b[0mattrs\u001b[0m\u001b[0;34m,\u001b[0m\u001b[0;34m\u001b[0m\u001b[0;34m\u001b[0m\u001b[0m\n\u001b[0;32m--> 502\u001b[0;31m               ctx=ctx)\n\u001b[0m\u001b[1;32m    503\u001b[0m         \u001b[0;32melse\u001b[0m\u001b[0;34m:\u001b[0m\u001b[0;34m\u001b[0m\u001b[0;34m\u001b[0m\u001b[0m\n\u001b[1;32m    504\u001b[0m           outputs = execute.execute_with_cancellation(\n",
            "\u001b[0;32m/usr/local/lib/python3.7/dist-packages/tensorflow/python/eager/execute.py\u001b[0m in \u001b[0;36mquick_execute\u001b[0;34m(op_name, num_outputs, inputs, attrs, ctx, name)\u001b[0m\n\u001b[1;32m     53\u001b[0m     \u001b[0mctx\u001b[0m\u001b[0;34m.\u001b[0m\u001b[0mensure_initialized\u001b[0m\u001b[0;34m(\u001b[0m\u001b[0;34m)\u001b[0m\u001b[0;34m\u001b[0m\u001b[0;34m\u001b[0m\u001b[0m\n\u001b[1;32m     54\u001b[0m     tensors = pywrap_tfe.TFE_Py_Execute(ctx._handle, device_name, op_name,\n\u001b[0;32m---> 55\u001b[0;31m                                         inputs, attrs, num_outputs)\n\u001b[0m\u001b[1;32m     56\u001b[0m   \u001b[0;32mexcept\u001b[0m \u001b[0mcore\u001b[0m\u001b[0;34m.\u001b[0m\u001b[0m_NotOkStatusException\u001b[0m \u001b[0;32mas\u001b[0m \u001b[0me\u001b[0m\u001b[0;34m:\u001b[0m\u001b[0;34m\u001b[0m\u001b[0;34m\u001b[0m\u001b[0m\n\u001b[1;32m     57\u001b[0m     \u001b[0;32mif\u001b[0m \u001b[0mname\u001b[0m \u001b[0;32mis\u001b[0m \u001b[0;32mnot\u001b[0m \u001b[0;32mNone\u001b[0m\u001b[0;34m:\u001b[0m\u001b[0;34m\u001b[0m\u001b[0;34m\u001b[0m\u001b[0m\n",
            "\u001b[0;31mKeyboardInterrupt\u001b[0m: "
          ]
        }
      ]
    },
    {
      "cell_type": "code",
      "source": [
        "tuner.search_space_summary()"
      ],
      "metadata": {
        "colab": {
          "base_uri": "https://localhost:8080/"
        },
        "id": "8CoMS5DOHhL0",
        "outputId": "7ca3b039-4d6c-4176-f609-c025041173e7"
      },
      "execution_count": null,
      "outputs": [
        {
          "output_type": "stream",
          "name": "stdout",
          "text": [
            "Search space summary\n",
            "Default search space size: 5\n",
            "dropout (Float)\n",
            "{'default': 0.1, 'conditions': [], 'min_value': 0.1, 'max_value': 0.5, 'step': 0.1, 'sampling': None}\n",
            "layers (Int)\n",
            "{'default': None, 'conditions': [], 'min_value': 2, 'max_value': 6, 'step': 1, 'sampling': None}\n",
            "units_0 (Int)\n",
            "{'default': None, 'conditions': [], 'min_value': 128, 'max_value': 256, 'step': 32, 'sampling': None}\n",
            "units_1 (Int)\n",
            "{'default': None, 'conditions': [], 'min_value': 128, 'max_value': 256, 'step': 32, 'sampling': None}\n",
            "learning_rate (Choice)\n",
            "{'default': 0.001, 'conditions': [], 'values': [0.001, 0.0001, 1e-05], 'ordered': True}\n"
          ]
        }
      ]
    },
    {
      "cell_type": "markdown",
      "source": [
        "## Fit model"
      ],
      "metadata": {
        "id": "NZT1XzOq7UZO"
      }
    },
    {
      "cell_type": "code",
      "source": [
        "train_final_df = train[train['CELL_LINE_NAME'].isin(train_CL)]\n",
        "X_train = train_final_df.iloc[:, 2:-1]\n",
        "y_train = train_final_df['LN_IC50']"
      ],
      "metadata": {
        "id": "BULQPO5466kh"
      },
      "execution_count": null,
      "outputs": []
    },
    {
      "cell_type": "code",
      "source": [
        "i =0\n",
        "h_model = tf.keras.models.load_model('precily_cv_' + str(i + 1) + '.hdf5')\n",
        "h_model.fit(X_train, y_train, verbose=1, epochs=50, batch_size=128)\n",
        "h_model.save('Model' + str(i + 1) + '.hdf5')"
      ],
      "metadata": {
        "colab": {
          "base_uri": "https://localhost:8080/",
          "height": 468
        },
        "id": "cdGAsVF16xjA",
        "outputId": "6bb1c196-0960-4293-92b3-7744962f198f"
      },
      "execution_count": null,
      "outputs": [
        {
          "output_type": "error",
          "ename": "OSError",
          "evalue": "ignored",
          "traceback": [
            "\u001b[0;31m---------------------------------------------------------------------------\u001b[0m",
            "\u001b[0;31mOSError\u001b[0m                                   Traceback (most recent call last)",
            "\u001b[0;32m<ipython-input-53-e24a2c53ca8b>\u001b[0m in \u001b[0;36m<module>\u001b[0;34m\u001b[0m\n\u001b[1;32m      1\u001b[0m \u001b[0mi\u001b[0m \u001b[0;34m=\u001b[0m\u001b[0;36m0\u001b[0m\u001b[0;34m\u001b[0m\u001b[0;34m\u001b[0m\u001b[0m\n\u001b[0;32m----> 2\u001b[0;31m \u001b[0mh_model\u001b[0m \u001b[0;34m=\u001b[0m \u001b[0mtf\u001b[0m\u001b[0;34m.\u001b[0m\u001b[0mkeras\u001b[0m\u001b[0;34m.\u001b[0m\u001b[0mmodels\u001b[0m\u001b[0;34m.\u001b[0m\u001b[0mload_model\u001b[0m\u001b[0;34m(\u001b[0m\u001b[0;34m'precily_cv_'\u001b[0m \u001b[0;34m+\u001b[0m \u001b[0mstr\u001b[0m\u001b[0;34m(\u001b[0m\u001b[0mi\u001b[0m \u001b[0;34m+\u001b[0m \u001b[0;36m1\u001b[0m\u001b[0;34m)\u001b[0m \u001b[0;34m+\u001b[0m \u001b[0;34m'.hdf5'\u001b[0m\u001b[0;34m)\u001b[0m\u001b[0;34m\u001b[0m\u001b[0;34m\u001b[0m\u001b[0m\n\u001b[0m\u001b[1;32m      3\u001b[0m \u001b[0mh_model\u001b[0m\u001b[0;34m.\u001b[0m\u001b[0mfit\u001b[0m\u001b[0;34m(\u001b[0m\u001b[0mX_train\u001b[0m\u001b[0;34m,\u001b[0m \u001b[0my_train\u001b[0m\u001b[0;34m,\u001b[0m \u001b[0mverbose\u001b[0m\u001b[0;34m=\u001b[0m\u001b[0;36m1\u001b[0m\u001b[0;34m,\u001b[0m \u001b[0mepochs\u001b[0m\u001b[0;34m=\u001b[0m\u001b[0;36m50\u001b[0m\u001b[0;34m,\u001b[0m \u001b[0mbatch_size\u001b[0m\u001b[0;34m=\u001b[0m\u001b[0;36m128\u001b[0m\u001b[0;34m)\u001b[0m\u001b[0;34m\u001b[0m\u001b[0;34m\u001b[0m\u001b[0m\n\u001b[1;32m      4\u001b[0m \u001b[0mh_model\u001b[0m\u001b[0;34m.\u001b[0m\u001b[0msave\u001b[0m\u001b[0;34m(\u001b[0m\u001b[0;34m'Model'\u001b[0m \u001b[0;34m+\u001b[0m \u001b[0mstr\u001b[0m\u001b[0;34m(\u001b[0m\u001b[0mi\u001b[0m \u001b[0;34m+\u001b[0m \u001b[0;36m1\u001b[0m\u001b[0;34m)\u001b[0m \u001b[0;34m+\u001b[0m \u001b[0;34m'.hdf5'\u001b[0m\u001b[0;34m)\u001b[0m\u001b[0;34m\u001b[0m\u001b[0;34m\u001b[0m\u001b[0m\n",
            "\u001b[0;32m/usr/local/lib/python3.7/dist-packages/keras/utils/traceback_utils.py\u001b[0m in \u001b[0;36merror_handler\u001b[0;34m(*args, **kwargs)\u001b[0m\n\u001b[1;32m     65\u001b[0m     \u001b[0;32mexcept\u001b[0m \u001b[0mException\u001b[0m \u001b[0;32mas\u001b[0m \u001b[0me\u001b[0m\u001b[0;34m:\u001b[0m  \u001b[0;31m# pylint: disable=broad-except\u001b[0m\u001b[0;34m\u001b[0m\u001b[0;34m\u001b[0m\u001b[0m\n\u001b[1;32m     66\u001b[0m       \u001b[0mfiltered_tb\u001b[0m \u001b[0;34m=\u001b[0m \u001b[0m_process_traceback_frames\u001b[0m\u001b[0;34m(\u001b[0m\u001b[0me\u001b[0m\u001b[0;34m.\u001b[0m\u001b[0m__traceback__\u001b[0m\u001b[0;34m)\u001b[0m\u001b[0;34m\u001b[0m\u001b[0;34m\u001b[0m\u001b[0m\n\u001b[0;32m---> 67\u001b[0;31m       \u001b[0;32mraise\u001b[0m \u001b[0me\u001b[0m\u001b[0;34m.\u001b[0m\u001b[0mwith_traceback\u001b[0m\u001b[0;34m(\u001b[0m\u001b[0mfiltered_tb\u001b[0m\u001b[0;34m)\u001b[0m \u001b[0;32mfrom\u001b[0m \u001b[0;32mNone\u001b[0m\u001b[0;34m\u001b[0m\u001b[0;34m\u001b[0m\u001b[0m\n\u001b[0m\u001b[1;32m     68\u001b[0m     \u001b[0;32mfinally\u001b[0m\u001b[0;34m:\u001b[0m\u001b[0;34m\u001b[0m\u001b[0;34m\u001b[0m\u001b[0m\n\u001b[1;32m     69\u001b[0m       \u001b[0;32mdel\u001b[0m \u001b[0mfiltered_tb\u001b[0m\u001b[0;34m\u001b[0m\u001b[0;34m\u001b[0m\u001b[0m\n",
            "\u001b[0;32m/usr/local/lib/python3.7/dist-packages/keras/saving/save.py\u001b[0m in \u001b[0;36mload_model\u001b[0;34m(filepath, custom_objects, compile, options)\u001b[0m\n\u001b[1;32m    204\u001b[0m         \u001b[0;32mif\u001b[0m \u001b[0misinstance\u001b[0m\u001b[0;34m(\u001b[0m\u001b[0mfilepath_str\u001b[0m\u001b[0;34m,\u001b[0m \u001b[0mstr\u001b[0m\u001b[0;34m)\u001b[0m\u001b[0;34m:\u001b[0m\u001b[0;34m\u001b[0m\u001b[0;34m\u001b[0m\u001b[0m\n\u001b[1;32m    205\u001b[0m           \u001b[0;32mif\u001b[0m \u001b[0;32mnot\u001b[0m \u001b[0mtf\u001b[0m\u001b[0;34m.\u001b[0m\u001b[0mio\u001b[0m\u001b[0;34m.\u001b[0m\u001b[0mgfile\u001b[0m\u001b[0;34m.\u001b[0m\u001b[0mexists\u001b[0m\u001b[0;34m(\u001b[0m\u001b[0mfilepath_str\u001b[0m\u001b[0;34m)\u001b[0m\u001b[0;34m:\u001b[0m\u001b[0;34m\u001b[0m\u001b[0;34m\u001b[0m\u001b[0m\n\u001b[0;32m--> 206\u001b[0;31m             \u001b[0;32mraise\u001b[0m \u001b[0mIOError\u001b[0m\u001b[0;34m(\u001b[0m\u001b[0;34mf'No file or directory found at {filepath_str}'\u001b[0m\u001b[0;34m)\u001b[0m\u001b[0;34m\u001b[0m\u001b[0;34m\u001b[0m\u001b[0m\n\u001b[0m\u001b[1;32m    207\u001b[0m \u001b[0;34m\u001b[0m\u001b[0m\n\u001b[1;32m    208\u001b[0m           \u001b[0;32mif\u001b[0m \u001b[0mtf\u001b[0m\u001b[0;34m.\u001b[0m\u001b[0mio\u001b[0m\u001b[0;34m.\u001b[0m\u001b[0mgfile\u001b[0m\u001b[0;34m.\u001b[0m\u001b[0misdir\u001b[0m\u001b[0;34m(\u001b[0m\u001b[0mfilepath_str\u001b[0m\u001b[0;34m)\u001b[0m\u001b[0;34m:\u001b[0m\u001b[0;34m\u001b[0m\u001b[0;34m\u001b[0m\u001b[0m\n",
            "\u001b[0;31mOSError\u001b[0m: No file or directory found at precily_cv_1.hdf5"
          ]
        }
      ]
    },
    {
      "cell_type": "code",
      "source": [
        "X_test = test_set_df.iloc[:, 2:-1]\n",
        "y_test = test_set_df['LN_IC50']"
      ],
      "metadata": {
        "id": "r4gbJwf17rmP"
      },
      "execution_count": null,
      "outputs": []
    },
    {
      "cell_type": "code",
      "source": [
        "y_pred = h_model.predict(X_test)"
      ],
      "metadata": {
        "id": "pKFrOt3v7bVQ"
      },
      "execution_count": null,
      "outputs": []
    },
    {
      "cell_type": "code",
      "source": [
        "#cor(y_test, y_pred)\n",
        "#pearson correlation\n",
        "from scipy.stats import pearsonr\n",
        "\n",
        "#covariance(X, Y) / (stdv(X) * stdv(Y))\n",
        "corr, _ = pearsonr(y_pred, y_test)\n",
        "print('Pearsons correlation: %.3f' % corr)"
      ],
      "metadata": {
        "id": "CUjnMYAA61we"
      },
      "execution_count": null,
      "outputs": []
    },
    {
      "cell_type": "markdown",
      "source": [
        "## BASELINE MODEL"
      ],
      "metadata": {
        "id": "Kq5KljuFmR4o"
      }
    },
    {
      "cell_type": "code",
      "source": [
        "#read test data\n",
        "import requests\n",
        "import io\n",
        "\n",
        "# Downloading the csv file \n",
        " \n",
        "url = \"https://raw.githubusercontent.com/SmritiChawla/Precily/main/Fig1/Fig1c/Fig1c_Precily_genes/Test_data.csv\"\n",
        "download = requests.get(url).content\n",
        "\n",
        "# Reading the downloaded content and turning it into a pandas dataframe\n",
        "test = pd.read_csv(io.StringIO(download.decode('utf-8')))\n",
        "\n",
        "# Printing out the first 5 rows of the dataframe\n",
        "\n",
        "#print (test.head())\n",
        "\n",
        "X_test = test.iloc[:, 2:-1]\n",
        "y_test = test.iloc[:,-1]\n",
        "print('xtest shape: ', X_test.shape)\n",
        "print('ytest shape: ', y_test.shape)"
      ],
      "metadata": {
        "id": "WU8qJGpruG61",
        "colab": {
          "base_uri": "https://localhost:8080/"
        },
        "outputId": "3de22e1f-8626-4c29-eeff-424e83d2218a"
      },
      "execution_count": 6,
      "outputs": [
        {
          "output_type": "stream",
          "name": "stdout",
          "text": [
            "xtest shape:  (8008, 600)\n",
            "ytest shape:  (8008,)\n"
          ]
        }
      ]
    },
    {
      "cell_type": "code",
      "source": [
        "#save test \n",
        "from pathlib import Path\n",
        "\n",
        "DATA = Path(\"/content/drive/My Drive/2022 ECBM E4060/data\")\n",
        "\n",
        "test.to_csv(DATA/'Test_data.csv')"
      ],
      "metadata": {
        "id": "VnqqB77LYsKK"
      },
      "execution_count": 35,
      "outputs": []
    },
    {
      "cell_type": "code",
      "source": [
        "X_train = train.iloc[:, 2:-1]\n",
        "y_train = train['LN_IC50']\n",
        "print('xtrain shape: ', X_train.shape)\n",
        "print('ytrain shape: ', y_train.shape)"
      ],
      "metadata": {
        "colab": {
          "base_uri": "https://localhost:8080/"
        },
        "id": "R_dIptIIn-ta",
        "outputId": "7afda3bf-be3a-4ba7-94c5-9b51c302be4f"
      },
      "execution_count": 163,
      "outputs": [
        {
          "output_type": "stream",
          "name": "stdout",
          "text": [
            "xtrain shape:  (80056, 600)\n",
            "ytrain shape:  (80056,)\n"
          ]
        }
      ]
    },
    {
      "cell_type": "code",
      "source": [
        "#55 genes\n",
        "test['0'].unique().shape\n",
        "test['1'].unique().shape #173 drugs"
      ],
      "metadata": {
        "colab": {
          "base_uri": "https://localhost:8080/"
        },
        "id": "OovSAGH2g1HS",
        "outputId": "e66101b1-710f-401b-c91f-f159a24a7570"
      },
      "execution_count": 7,
      "outputs": [
        {
          "output_type": "execute_result",
          "data": {
            "text/plain": [
              "(173,)"
            ]
          },
          "metadata": {},
          "execution_count": 7
        }
      ]
    },
    {
      "cell_type": "code",
      "source": [
        "def build_model():\n",
        "  model = keras.Sequential()\n",
        "  model.add(keras.layers.Dense(600, input_dim=600, activation='relu'))\n",
        "  model.add(keras.layers.Dense(units=512, activation='relu'))\n",
        "  #adds dropout layer- hyperparam- tries from 10 to 50%\n",
        "  model.add(keras.layers.Dropout(0.1))\n",
        "  model.add(keras.layers.Dense(units=256, activation='relu'))\n",
        "  model.add(keras.layers.Dropout(0.1))\n",
        "  model.add(keras.layers.Dense(units=128, activation='relu'))\n",
        "  model.add(keras.layers.Dropout(0.1))\n",
        "  model.add(keras.layers.Dense(1))\n",
        "  return model"
      ],
      "metadata": {
        "id": "s5FKOS91mUEP"
      },
      "execution_count": 82,
      "outputs": []
    },
    {
      "cell_type": "code",
      "source": [
        "def compile_model(model, learning_rate = 0.0001):\n",
        "  model.compile(optimizer=keras.optimizers.Adam(learning_rate=learning_rate),\n",
        "                  loss='mean_absolute_error')\n",
        "  return model"
      ],
      "metadata": {
        "id": "QJQxvpcBmfRf"
      },
      "execution_count": 79,
      "outputs": []
    },
    {
      "cell_type": "code",
      "source": [
        "#callback = tf.keras.callbacks.EarlyStopping(patience=5)\n",
        "#callbacks=[callback]\n",
        "\n",
        "model = build_model()\n",
        "model = compile_model(model)\n",
        "print(model.summary())"
      ],
      "metadata": {
        "colab": {
          "base_uri": "https://localhost:8080/"
        },
        "id": "xoZopK-OnY7d",
        "outputId": "5765a173-19a0-4f84-ea65-c8d948666230"
      },
      "execution_count": 174,
      "outputs": [
        {
          "output_type": "stream",
          "name": "stdout",
          "text": [
            "Model: \"sequential_8\"\n",
            "_________________________________________________________________\n",
            " Layer (type)                Output Shape              Param #   \n",
            "=================================================================\n",
            " dense_39 (Dense)            (None, 600)               360600    \n",
            "                                                                 \n",
            " dense_40 (Dense)            (None, 512)               307712    \n",
            "                                                                 \n",
            " dropout_22 (Dropout)        (None, 512)               0         \n",
            "                                                                 \n",
            " dense_41 (Dense)            (None, 256)               131328    \n",
            "                                                                 \n",
            " dropout_23 (Dropout)        (None, 256)               0         \n",
            "                                                                 \n",
            " dense_42 (Dense)            (None, 128)               32896     \n",
            "                                                                 \n",
            " dropout_24 (Dropout)        (None, 128)               0         \n",
            "                                                                 \n",
            " dense_43 (Dense)            (None, 1)                 129       \n",
            "                                                                 \n",
            "=================================================================\n",
            "Total params: 832,665\n",
            "Trainable params: 832,665\n",
            "Non-trainable params: 0\n",
            "_________________________________________________________________\n",
            "None\n"
          ]
        }
      ]
    },
    {
      "cell_type": "code",
      "source": [
        "%%time\n",
        "history = model.fit(X_train, y_train, \n",
        "                    batch_size = 128, epochs=20,\n",
        "                    verbose= 0)\n",
        "train_loss = history.history['loss']\n",
        "\n",
        "print('Train loss %.3f' %train_loss[-1])\n"
      ],
      "metadata": {
        "colab": {
          "base_uri": "https://localhost:8080/"
        },
        "id": "XAslHp0GnqrV",
        "outputId": "e70db213-7eeb-4865-c3c1-875e4349fff0"
      },
      "execution_count": 175,
      "outputs": [
        {
          "output_type": "stream",
          "name": "stdout",
          "text": [
            "Train loss 1.264\n",
            "CPU times: user 7min 49s, sys: 22.4 s, total: 8min 12s\n",
            "Wall time: 4min 49s\n"
          ]
        }
      ]
    },
    {
      "cell_type": "code",
      "source": [
        "import matplotlib.pyplot as plt\n",
        "plt.plot(history.history['loss'], label='loss')"
      ],
      "metadata": {
        "colab": {
          "base_uri": "https://localhost:8080/",
          "height": 282
        },
        "id": "Du9_B6Y5dV7Z",
        "outputId": "b1e0efec-325c-4329-9362-bc35ad187082"
      },
      "execution_count": 176,
      "outputs": [
        {
          "output_type": "execute_result",
          "data": {
            "text/plain": [
              "[<matplotlib.lines.Line2D at 0x7f57ce68b340>]"
            ]
          },
          "metadata": {},
          "execution_count": 176
        },
        {
          "output_type": "display_data",
          "data": {
            "text/plain": [
              "<Figure size 432x288 with 1 Axes>"
            ],
            "image/png": "[encoded data removed]"
          },
          "metadata": {
            "needs_background": "light"
          }
        }
      ]
    },
    {
      "cell_type": "code",
      "source": [
        "y_pred = model.predict(X_test)\n",
        "y_pred_flat = y_pred.flatten().tolist()"
      ],
      "metadata": {
        "colab": {
          "base_uri": "https://localhost:8080/"
        },
        "id": "3L4K_2XkpLmL",
        "outputId": "5e49e4dc-c0c4-4807-b221-84c962f7baae"
      },
      "execution_count": 177,
      "outputs": [
        {
          "output_type": "stream",
          "name": "stdout",
          "text": [
            "251/251 [==============================] - 2s 6ms/step\n"
          ]
        }
      ]
    },
    {
      "cell_type": "code",
      "source": [
        "test_loss = model.evaluate(X_test, y_test, verbose= 0)\n",
        "print('Test loss %.3f' %test_loss)"
      ],
      "metadata": {
        "colab": {
          "base_uri": "https://localhost:8080/"
        },
        "id": "tokmXV9JwH7i",
        "outputId": "59d4c953-6775-4d56-8cc0-aae15136f5b1"
      },
      "execution_count": 178,
      "outputs": [
        {
          "output_type": "stream",
          "name": "stdout",
          "text": [
            "Test loss 1.230\n"
          ]
        }
      ]
    },
    {
      "cell_type": "code",
      "source": [
        "model_location = '/content/drive/My Drive/2022 ECBM E4060/models/'+'Model' + str(1) + '.hdf5'\n",
        "\n",
        "model = tf.keras.models.load_model(model_location)"
      ],
      "metadata": {
        "id": "ovjzvEMA6nfH"
      },
      "execution_count": 105,
      "outputs": []
    },
    {
      "cell_type": "code",
      "source": [
        "# save model\n",
        "model.save('/content/drive/My Drive/2022 ECBM E4060/models/'+'Model' + str(4) + '.hdf5')"
      ],
      "metadata": {
        "id": "32kIyZKCgwhs"
      },
      "execution_count": 154,
      "outputs": []
    },
    {
      "cell_type": "code",
      "source": [
        "from scipy.stats import pearsonr\n",
        "\n",
        "pearson, r = pearsonr(y_test, y_pred_flat)\n",
        "print('pearson:' , pearson)\n",
        "\n",
        "from sklearn.metrics import r2_score\n",
        "\n",
        "r2 = r2_score(y_test,y_pred_flat)\n",
        "print('r2: ' , r2)\n",
        "\n",
        "from scipy.stats import ttest_ind\n",
        "s, pvalue = ttest_ind(y_test, y_pred.flatten().tolist())\n",
        "print(\"pvalue: {:.2E}\".format(pvalue))\n",
        "\n",
        "#linear fit line\n",
        "m, b = np.polyfit(y_test, y_pred,1)"
      ],
      "metadata": {
        "colab": {
          "base_uri": "https://localhost:8080/"
        },
        "id": "CzmANp11jveb",
        "outputId": "9bc78042-f0f7-4a94-fed8-9611bf5cb0c5"
      },
      "execution_count": 179,
      "outputs": [
        {
          "output_type": "stream",
          "name": "stdout",
          "text": [
            "pearson: 0.8193031444146488\n",
            "r2:  0.635871494019163\n",
            "pvalue: 2.26E-28\n"
          ]
        }
      ]
    },
    {
      "cell_type": "markdown",
      "source": [
        "For a global picture, we pooled our predictions across drugs and cell lines and obtained a Pearson’s correlation coefficient value of 0.88 (R2 = 0.77; P-value < 2.2e-16) (Fig. 1d)."
      ],
      "metadata": {
        "id": "Wk5NQhBffPiw"
      }
    },
    {
      "cell_type": "code",
      "source": [
        "from scipy.stats import gaussian_kde\n",
        "# initial data\n",
        "x = y_test\n",
        "y = pd.Series(y_pred_flat)\n",
        "\n",
        "f, a = plt.subplots(figsize=(8,8))\n",
        "xy = np.vstack([x, y])\n",
        "z = gaussian_kde(xy)(xy) \n",
        "# Sort the points by density, so that the densest points are       \n",
        "# plotted last                                                     \n",
        "idx = z.argsort()\n",
        "\n",
        "x2, y2, z = x[idx], y[idx], z[idx]                                 \n",
        "s = a.scatter(                                                     \n",
        "    x2, y2, c=z, s=25, cmap= 'summer', \n",
        "    edgecolor='', label=None, picker=True, zorder=2                \n",
        ") \n",
        "\n",
        "plt.scatter(y_test, y_pred)\n",
        "plt.xlabel('Observed GDSC LN IC50')\n",
        "plt.ylabel('Predicted GDSC LN IC50')\n",
        "plt.plot(y_test, m*y_test+b, color = \"black\")\n",
        "plt.annotate(\"r-squared = {:.3f}\".format(r2), (-6, 8))\n",
        "plt.annotate(\"pearson = {:.2f}\".format(pearson), (-6, 7))\n",
        "plt.annotate(\"p < {:.2E}\".format(pvalue), (-6, 6))\n",
        "plt.show()"
      ],
      "metadata": {
        "colab": {
          "base_uri": "https://localhost:8080/",
          "height": 552
        },
        "id": "r4iKpYQHtsZm",
        "outputId": "ad239222-6018-4430-afb4-2ddfde7a3f98"
      },
      "execution_count": 130,
      "outputs": [
        {
          "output_type": "stream",
          "name": "stderr",
          "text": [
            "<ipython-input-130-a8648a1be851>:14: MatplotlibDeprecationWarning: Using a string of single character colors as a color sequence is deprecated. Use an explicit list instead.\n",
            "  s = a.scatter(\n"
          ]
        },
        {
          "output_type": "display_data",
          "data": {
            "text/plain": [
              "<Figure size 576x576 with 1 Axes>"
            ],
            "image/png": "[encoded data removed]"
          },
          "metadata": {
            "needs_background": "light"
          }
        }
      ]
    },
    {
      "cell_type": "markdown",
      "source": [
        "### prediction value for each drug\n",
        "\n",
        "- for each drug\n",
        "- get the subset of data for the drug\n",
        "- make predictions\n",
        "- average out the predicted values\n",
        "- calculate cor between true and prediction for all the data for that drug\n",
        "- bind all, getting correlation value for each drug\n",
        "-mean correlation at the end"
      ],
      "metadata": {
        "id": "COmQ271jhtL7"
      }
    },
    {
      "cell_type": "code",
      "source": [
        "drugs = test['1'].unique()\n",
        "print(len(drugs))"
      ],
      "metadata": {
        "id": "9x67P9jdhvra"
      },
      "execution_count": 10,
      "outputs": []
    },
    {
      "cell_type": "markdown",
      "source": [
        "## Hyperparameter tuning with five fold cross validation"
      ],
      "metadata": {
        "id": "vyr26hUGjkfN"
      }
    },
    {
      "cell_type": "markdown",
      "source": [
        "### Train and test cell-line set split"
      ],
      "metadata": {
        "id": "4XPHIvx8IRO2"
      }
    },
    {
      "cell_type": "code",
      "source": [
        "#shuffle the cell line list\n",
        "CL = train['CELL_LINE_NAME'].unique()\n",
        "\n",
        "np.random.shuffle(CL)\n",
        "train_CL = CL[:int(len(CL)*0.9)]\n",
        "test_CL = CL[int(len(CL)*0.9):]"
      ],
      "metadata": {
        "id": "AjSCmxsmvCUw"
      },
      "execution_count": 87,
      "outputs": []
    },
    {
      "cell_type": "code",
      "source": [
        "#test set df\n",
        "test_set_df = train[train['CELL_LINE_NAME'].isin(test_CL)].copy()"
      ],
      "metadata": {
        "id": "qJNtsiGjv4Lu"
      },
      "execution_count": 17,
      "outputs": []
    },
    {
      "cell_type": "code",
      "source": [
        "#model set- create k fold validation\n",
        "\n",
        "def get_data():\n",
        "  k = 3\n",
        "\n",
        "  fold_len = len(train_CL)//k\n",
        "\n",
        "  for i in range(0,k):\n",
        "    #get the kfold cell lines\n",
        "    val_CL_kfold = train_CL[(i*fold_len) : (i+1)*fold_len]\n",
        "    train_CL_kfold = list(set(train_CL) - set(val_CL_kfold))\n",
        "    \n",
        "    #get the subset from df\n",
        "    train_df = train[train['CELL_LINE_NAME'].isin(train_CL_kfold)]\n",
        "    val_df = train[train['CELL_LINE_NAME'].isin(val_CL_kfold)]\n",
        "\n",
        "    #prepare for model\n",
        "    X_train = train_df.iloc[:, 2:-1]\n",
        "    y_train = train_df['LN_IC50']\n",
        "    X_val = val_df.iloc[:, 2:-1]\n",
        "    y_val = val_df['LN_IC50']\n",
        "\n"
      ],
      "metadata": {
        "id": "QVcHo9f0wbzt"
      },
      "execution_count": null,
      "outputs": []
    },
    {
      "cell_type": "code",
      "source": [
        "#define hyper-parameter search space\n",
        "learning_rates = [0.001]\n",
        "hyperparams = {'learning_rate': learning_rates}\n",
        "summary = []\n",
        "train_losses = []\n",
        "test_losses= []\n",
        "\n",
        "k = 3\n",
        "fold_len = len(train_CL)//k\n",
        "\n",
        "#choose a hyper-parameter\n",
        "for key, values in hyperparams.items():\n",
        "  print(key)\n",
        "  for val in values:\n",
        "    \n",
        "    train_losses = []\n",
        "    test_losses= []\n",
        "\n",
        "    for i in range(0,k):\n",
        "      #get the kfold cell lines\n",
        "      val_CL_kfold = train_CL[(i*fold_len) : (i+1)*fold_len]\n",
        "      train_CL_kfold = list(set(train_CL) - set(val_CL_kfold))\n",
        "      \n",
        "      #get the subset from df\n",
        "      train_df = train[train['CELL_LINE_NAME'].isin(train_CL_kfold)]\n",
        "      val_df = train[train['CELL_LINE_NAME'].isin(val_CL_kfold)]\n",
        "\n",
        "      #prepare for model\n",
        "      X_train = train_df.iloc[:, 2:-1]\n",
        "      y_train = train_df['LN_IC50']\n",
        "      X_val = val_df.iloc[:, 2:-1]\n",
        "      y_val = val_df['LN_IC50']\n",
        "  \n",
        "\n",
        "      #build & compile model\n",
        "      model = build_model()\n",
        "      model = compile_model(model, learning_rate = val)\n",
        "\n",
        "      #fit model\n",
        "      history = model.fit(X_train, y_train, \n",
        "                    batch_size = 128, epochs=20,\n",
        "                    verbose= 0)\n",
        "      train_loss = history.history['loss']\n",
        "      test_loss = model.evaluate(X_val, y_val, verbose= 0)\n",
        "      print(train_loss, test_loss)\n",
        "      \n",
        "      train_losses.append(train_loss)\n",
        "      test_losses.append(test_loss)\n",
        "\n",
        "      \n",
        "    train_loss = np.mean(train_losses)\n",
        "    test_loss = np.mean(test_losses)\n",
        "\n",
        "    summary.append([key, val, train_loss, test_loss])"
      ],
      "metadata": {
        "colab": {
          "base_uri": "https://localhost:8080/"
        },
        "id": "lfdgtnFHjjXL",
        "outputId": "ca9e1d5d-7f71-406e-e25d-32308599567e"
      },
      "execution_count": 88,
      "outputs": [
        {
          "output_type": "stream",
          "name": "stdout",
          "text": [
            "learning_rate\n",
            "[2.1069071292877197, 1.8220497369766235, 1.6626132726669312, 1.6027398109436035, 1.5529927015304565, 1.5110098123550415, 1.4742236137390137, 1.4544123411178589, 1.428556203842163, 1.4044861793518066, 1.3932820558547974, 1.3564965724945068, 1.3709852695465088, 1.310178518295288, 1.3187144994735718, 1.2854211330413818, 1.2690141201019287, 1.2550182342529297, 1.2276008129119873, 1.2025035619735718] 1.6263909339904785\n",
            "[2.1148526668548584, 1.8256248235702515, 1.676527976989746, 1.5911825895309448, 1.5491222143173218, 1.517298936843872, 1.4639734029769897, 1.4773623943328857, 1.4424971342086792, 1.4272011518478394, 1.4153194427490234, 1.3790369033813477, 1.3727611303329468, 1.353004813194275, 1.3290098905563354, 1.3058927059173584, 1.2936466932296753, 1.269264817237854, 1.245912790298462, 1.2886921167373657] 1.5803593397140503\n",
            "[2.1238811016082764, 1.8342106342315674, 1.7120236158370972, 1.6114344596862793, 1.5397753715515137, 1.5224549770355225, 1.4929938316345215, 1.4584277868270874, 1.4296069145202637, 1.422170877456665, 1.3720893859863281, 1.3856968879699707, 1.3630423545837402, 1.3307853937149048, 1.3058445453643799, 1.3165030479431152, 1.2841137647628784, 1.2612085342407227, 1.233921766281128, 1.2329696416854858] 1.5085896253585815\n"
          ]
        }
      ]
    },
    {
      "cell_type": "code",
      "source": [
        "#build model\n",
        "\n",
        "#compile model\n",
        "\n",
        "#fit model\n",
        "history = model.fit(X_train, y_train, \n",
        "                    batch_size = 128, epochs=20,\n",
        "                    verbose= 0)\n",
        "train_loss = history.history['loss']\n",
        "test_loss = model.evaluate(X_test, y_test, verbose= 0)\n"
      ],
      "metadata": {
        "id": "ecExUkHJmFAH"
      },
      "execution_count": null,
      "outputs": []
    },
    {
      "cell_type": "code",
      "source": [],
      "metadata": {
        "id": "SPX8ci9Fl-N9"
      },
      "execution_count": null,
      "outputs": []
    },
    {
      "cell_type": "markdown",
      "source": [
        "## Loading Precily Gene models, Pearson correlation"
      ],
      "metadata": {
        "id": "hD053ZvVVcqW"
      }
    },
    {
      "cell_type": "code",
      "source": [
        "model_location = '/content/drive/My Drive/2022 ECBM E4060/models/'\n",
        "\n",
        "#model_1 = tf.keras.models.load_model(model_location+ 'Model' + str(1) + '.hdf5')\n",
        "#model_2 = tf.keras.models.load_model(model_location+ 'Model' + str(2) + '.hdf5')\n",
        "model_1 = tf.keras.models.load_model(model_location+ 'PrecilyModel' + str(1) + '.hdf5')\n",
        "model_2 = tf.keras.models.load_model(model_location+ 'PrecilyModel' + str(1) + '.hdf5')\n",
        "model_3 = tf.keras.models.load_model(model_location+ 'PrecilyModel' + str(1) + '.hdf5')\n",
        "model_4 = tf.keras.models.load_model(model_location+ 'PrecilyModel' + str(1) + '.hdf5')\n",
        "model_5 = tf.keras.models.load_model(model_location+ 'PrecilyModel' + str(1) + '.hdf5')\n",
        "\n"
      ],
      "metadata": {
        "id": "Ex8e2qSY95I0"
      },
      "execution_count": 17,
      "outputs": []
    },
    {
      "cell_type": "code",
      "source": [
        "from scipy.stats import pearsonr\n",
        "\n",
        "cors = []\n",
        "for d in drugs:\n",
        "  #get subset of data for each drug\n",
        "  subset = test.loc[test['1'] == d]\n",
        "  X_test_d = subset.iloc[:, 2:-1]\n",
        "  y_test_d = subset.iloc[:,-1]\n",
        "\n",
        "  #make predictions\n",
        "  y_pred_1 = model_1.predict(X_test_d, verbose = 0)\n",
        "  y_pred_2 = model_2.predict(X_test_d, verbose = 0)\n",
        "  y_pred_3 = model_3.predict(X_test_d, verbose = 0)\n",
        "  y_pred_4 = model_4.predict(X_test_d, verbose = 0)\n",
        "  y_pred_5 = model_5.predict(X_test_d, verbose = 0)\n",
        "\n",
        "  #average prediciton for each model\n",
        "  y_pred_mean = np.mean((y_pred_1.flatten().tolist(), \n",
        "                         y_pred_2.flatten().tolist(),\n",
        "                         y_pred_3.flatten().tolist(),\n",
        "                         y_pred_4.flatten().tolist(),\n",
        "                         y_pred_5.flatten().tolist()), axis = 0)\n",
        "\n",
        "\n",
        "  #correlation between true and observed\n",
        "  r, p = pearsonr(y_test_d, y_pred_mean)\n",
        "  cors.append(r)"
      ],
      "metadata": {
        "id": "RQKwYKmHnVzY"
      },
      "execution_count": null,
      "outputs": []
    },
    {
      "cell_type": "code",
      "source": [
        "print(sum(cors)/len(cors))\n",
        "print(np.mean(cors))"
      ],
      "metadata": {
        "colab": {
          "base_uri": "https://localhost:8080/"
        },
        "id": "Oo1sGXpiVLSw",
        "outputId": "e047b902-851a-49b7-f233-98864e53637f"
      },
      "execution_count": 57,
      "outputs": [
        {
          "output_type": "stream",
          "name": "stdout",
          "text": [
            "0.23138807912673173\n",
            "0.23138807912673165\n"
          ]
        }
      ]
    },
    {
      "cell_type": "code",
      "source": [
        "precily_genes = pd.DataFrame(cors)\n",
        "precily_genes.to_csv(DATA/'correlations_precily_genes.csv')"
      ],
      "metadata": {
        "id": "3kqNFEaAdq_Q"
      },
      "execution_count": 62,
      "outputs": []
    },
    {
      "cell_type": "code",
      "source": [
        "cors = []\n",
        "for d in drugs:\n",
        "  subset = test.loc[test['1'] == d]\n",
        "  X_test_d = subset.iloc[:, 2:-1]\n",
        "  y_test_d = subset.iloc[:,-1]\n",
        "\n",
        "  y_pred_1 = model_1.predict(X_test_d)\n",
        "  y_pred_2 = model_2.predict(X_test_d)\n",
        "\n",
        "  y_pred_mean = np.mean((y_pred_1, y_pred_2), axis = 0)\n",
        "\n",
        "  r, p = pearsonr(y_test_d, y_pred_mean)\n",
        "  cors.append(r)\n",
        "\n",
        "print(sum(cors)/len(cors))"
      ],
      "metadata": {
        "colab": {
          "base_uri": "https://localhost:8080/"
        },
        "id": "9mP19XzZA5LX",
        "outputId": "e2596447-a39a-43ec-cf07-5cf856c51b9b"
      },
      "execution_count": 142,
      "outputs": [
        {
          "output_type": "execute_result",
          "data": {
            "text/plain": [
              "array([0.658603902685222], dtype=object)"
            ]
          },
          "metadata": {},
          "execution_count": 142
        }
      ]
    },
    {
      "cell_type": "markdown",
      "source": [
        "## Loading Precily Pathways models, getting correlation value"
      ],
      "metadata": {
        "id": "vPCc3uHQerJU"
      }
    },
    {
      "cell_type": "code",
      "source": [
        "test_data = \"Test_Set.csv\"\n",
        "test_data = pd.read_csv(DATA/test_data)\n",
        "test_data.head()"
      ],
      "metadata": {
        "colab": {
          "base_uri": "https://localhost:8080/",
          "height": 317
        },
        "id": "9leLkAK-f7Jy",
        "outputId": "0ec05ce0-0022-47b0-f42b-54099ca2c09e"
      },
      "execution_count": 65,
      "outputs": [
        {
          "output_type": "execute_result",
          "data": {
            "text/plain": [
              "       0               1         2        3         4         5         6  \\\n",
              "0  22RV1  5-Fluorouracil -0.033926  0.61844 -0.123854  0.421681  0.025471   \n",
              "1  22RV1          ABT737 -0.033926  0.61844 -0.123854  0.421681  0.025471   \n",
              "2  22RV1        Acetalax -0.033926  0.61844 -0.123854  0.421681  0.025471   \n",
              "3  22RV1        Afatinib -0.033926  0.61844 -0.123854  0.421681  0.025471   \n",
              "4  22RV1     Afuresertib -0.033926  0.61844 -0.123854  0.421681  0.025471   \n",
              "\n",
              "         7         8         9  ...      1422      1423      1424      1425  \\\n",
              "0 -0.15411  0.495994  0.278725  ... -0.011703 -0.414060  0.061474  0.549070   \n",
              "1 -0.15411  0.495994  0.278725  ... -0.113681  0.204337 -0.150768  0.114594   \n",
              "2 -0.15411  0.495994  0.278725  ...  0.079674  0.481107 -0.289358  0.153831   \n",
              "3 -0.15411  0.495994  0.278725  ... -0.019880  0.096177  0.073550  0.238451   \n",
              "4 -0.15411  0.495994  0.278725  ... -0.151985  0.201704 -0.057129  0.264910   \n",
              "\n",
              "       1426      1427      1428      1429      1430      1431  \n",
              "0 -0.192303  0.185672 -0.128457  0.024697  0.263466  2.478859  \n",
              "1 -0.110021  0.197329 -0.206644 -0.351558  0.035348  3.748055  \n",
              "2 -0.011794  0.442237 -0.127095 -0.152633  0.010294 -0.933771  \n",
              "3 -0.160336  0.069875 -0.041842 -0.101994  0.249072  2.433064  \n",
              "4 -0.087108  0.127217 -0.096696 -0.103081  0.269846  1.463836  \n",
              "\n",
              "[5 rows x 1432 columns]"
            ],
            "text/html": [
              "\n",
              "  <div id=\"df-37640578-4211-4b41-b9b6-8f9fabf68c4c\">\n",
              "    <div class=\"colab-df-container\">\n",
              "      <div>\n",
              "<style scoped>\n",
              "    .dataframe tbody tr th:only-of-type {\n",
              "        vertical-align: middle;\n",
              "    }\n",
              "\n",
              "    .dataframe tbody tr th {\n",
              "        vertical-align: top;\n",
              "    }\n",
              "\n",
              "    .dataframe thead th {\n",
              "        text-align: right;\n",
              "    }\n",
              "</style>\n",
              "<table border=\"1\" class=\"dataframe\">\n",
              "  <thead>\n",
              "    <tr style=\"text-align: right;\">\n",
              "      <th></th>\n",
              "      <th>0</th>\n",
              "      <th>1</th>\n",
              "      <th>2</th>\n",
              "      <th>3</th>\n",
              "      <th>4</th>\n",
              "      <th>5</th>\n",
              "      <th>6</th>\n",
              "      <th>7</th>\n",
              "      <th>8</th>\n",
              "      <th>9</th>\n",
              "      <th>...</th>\n",
              "      <th>1422</th>\n",
              "      <th>1423</th>\n",
              "      <th>1424</th>\n",
              "      <th>1425</th>\n",
              "      <th>1426</th>\n",
              "      <th>1427</th>\n",
              "      <th>1428</th>\n",
              "      <th>1429</th>\n",
              "      <th>1430</th>\n",
              "      <th>1431</th>\n",
              "    </tr>\n",
              "  </thead>\n",
              "  <tbody>\n",
              "    <tr>\n",
              "      <th>0</th>\n",
              "      <td>22RV1</td>\n",
              "      <td>5-Fluorouracil</td>\n",
              "      <td>-0.033926</td>\n",
              "      <td>0.61844</td>\n",
              "      <td>-0.123854</td>\n",
              "      <td>0.421681</td>\n",
              "      <td>0.025471</td>\n",
              "      <td>-0.15411</td>\n",
              "      <td>0.495994</td>\n",
              "      <td>0.278725</td>\n",
              "      <td>...</td>\n",
              "      <td>-0.011703</td>\n",
              "      <td>-0.414060</td>\n",
              "      <td>0.061474</td>\n",
              "      <td>0.549070</td>\n",
              "      <td>-0.192303</td>\n",
              "      <td>0.185672</td>\n",
              "      <td>-0.128457</td>\n",
              "      <td>0.024697</td>\n",
              "      <td>0.263466</td>\n",
              "      <td>2.478859</td>\n",
              "    </tr>\n",
              "    <tr>\n",
              "      <th>1</th>\n",
              "      <td>22RV1</td>\n",
              "      <td>ABT737</td>\n",
              "      <td>-0.033926</td>\n",
              "      <td>0.61844</td>\n",
              "      <td>-0.123854</td>\n",
              "      <td>0.421681</td>\n",
              "      <td>0.025471</td>\n",
              "      <td>-0.15411</td>\n",
              "      <td>0.495994</td>\n",
              "      <td>0.278725</td>\n",
              "      <td>...</td>\n",
              "      <td>-0.113681</td>\n",
              "      <td>0.204337</td>\n",
              "      <td>-0.150768</td>\n",
              "      <td>0.114594</td>\n",
              "      <td>-0.110021</td>\n",
              "      <td>0.197329</td>\n",
              "      <td>-0.206644</td>\n",
              "      <td>-0.351558</td>\n",
              "      <td>0.035348</td>\n",
              "      <td>3.748055</td>\n",
              "    </tr>\n",
              "    <tr>\n",
              "      <th>2</th>\n",
              "      <td>22RV1</td>\n",
              "      <td>Acetalax</td>\n",
              "      <td>-0.033926</td>\n",
              "      <td>0.61844</td>\n",
              "      <td>-0.123854</td>\n",
              "      <td>0.421681</td>\n",
              "      <td>0.025471</td>\n",
              "      <td>-0.15411</td>\n",
              "      <td>0.495994</td>\n",
              "      <td>0.278725</td>\n",
              "      <td>...</td>\n",
              "      <td>0.079674</td>\n",
              "      <td>0.481107</td>\n",
              "      <td>-0.289358</td>\n",
              "      <td>0.153831</td>\n",
              "      <td>-0.011794</td>\n",
              "      <td>0.442237</td>\n",
              "      <td>-0.127095</td>\n",
              "      <td>-0.152633</td>\n",
              "      <td>0.010294</td>\n",
              "      <td>-0.933771</td>\n",
              "    </tr>\n",
              "    <tr>\n",
              "      <th>3</th>\n",
              "      <td>22RV1</td>\n",
              "      <td>Afatinib</td>\n",
              "      <td>-0.033926</td>\n",
              "      <td>0.61844</td>\n",
              "      <td>-0.123854</td>\n",
              "      <td>0.421681</td>\n",
              "      <td>0.025471</td>\n",
              "      <td>-0.15411</td>\n",
              "      <td>0.495994</td>\n",
              "      <td>0.278725</td>\n",
              "      <td>...</td>\n",
              "      <td>-0.019880</td>\n",
              "      <td>0.096177</td>\n",
              "      <td>0.073550</td>\n",
              "      <td>0.238451</td>\n",
              "      <td>-0.160336</td>\n",
              "      <td>0.069875</td>\n",
              "      <td>-0.041842</td>\n",
              "      <td>-0.101994</td>\n",
              "      <td>0.249072</td>\n",
              "      <td>2.433064</td>\n",
              "    </tr>\n",
              "    <tr>\n",
              "      <th>4</th>\n",
              "      <td>22RV1</td>\n",
              "      <td>Afuresertib</td>\n",
              "      <td>-0.033926</td>\n",
              "      <td>0.61844</td>\n",
              "      <td>-0.123854</td>\n",
              "      <td>0.421681</td>\n",
              "      <td>0.025471</td>\n",
              "      <td>-0.15411</td>\n",
              "      <td>0.495994</td>\n",
              "      <td>0.278725</td>\n",
              "      <td>...</td>\n",
              "      <td>-0.151985</td>\n",
              "      <td>0.201704</td>\n",
              "      <td>-0.057129</td>\n",
              "      <td>0.264910</td>\n",
              "      <td>-0.087108</td>\n",
              "      <td>0.127217</td>\n",
              "      <td>-0.096696</td>\n",
              "      <td>-0.103081</td>\n",
              "      <td>0.269846</td>\n",
              "      <td>1.463836</td>\n",
              "    </tr>\n",
              "  </tbody>\n",
              "</table>\n",
              "<p>5 rows × 1432 columns</p>\n",
              "</div>\n",
              "      <button class=\"colab-df-convert\" onclick=\"convertToInteractive('df-37640578-4211-4b41-b9b6-8f9fabf68c4c')\"\n",
              "              title=\"Convert this dataframe to an interactive table.\"\n",
              "              style=\"display:none;\">\n",
              "        \n",
              "  <svg xmlns=\"http://www.w3.org/2000/svg\" height=\"24px\"viewBox=\"0 0 24 24\"\n",
              "       width=\"24px\">\n",
              "    <path d=\"M0 0h24v24H0V0z\" fill=\"none\"/>\n",
              "    <path d=\"M18.56 5.44l.94 2.06.94-2.06 2.06-.94-2.06-.94-.94-2.06-.94 2.06-2.06.94zm-11 1L8.5 8.5l.94-2.06 2.06-.94-2.06-.94L8.5 2.5l-.94 2.06-2.06.94zm10 10l.94 2.06.94-2.06 2.06-.94-2.06-.94-.94-2.06-.94 2.06-2.06.94z\"/><path d=\"M17.41 7.96l-1.37-1.37c-.4-.4-.92-.59-1.43-.59-.52 0-1.04.2-1.43.59L10.3 9.45l-7.72 7.72c-.78.78-.78 2.05 0 2.83L4 21.41c.39.39.9.59 1.41.59.51 0 1.02-.2 1.41-.59l7.78-7.78 2.81-2.81c.8-.78.8-2.07 0-2.86zM5.41 20L4 18.59l7.72-7.72 1.47 1.35L5.41 20z\"/>\n",
              "  </svg>\n",
              "      </button>\n",
              "      \n",
              "  <style>\n",
              "    .colab-df-container {\n",
              "      display:flex;\n",
              "      flex-wrap:wrap;\n",
              "      gap: 12px;\n",
              "    }\n",
              "\n",
              "    .colab-df-convert {\n",
              "      background-color: #E8F0FE;\n",
              "      border: none;\n",
              "      border-radius: 50%;\n",
              "      cursor: pointer;\n",
              "      display: none;\n",
              "      fill: #1967D2;\n",
              "      height: 32px;\n",
              "      padding: 0 0 0 0;\n",
              "      width: 32px;\n",
              "    }\n",
              "\n",
              "    .colab-df-convert:hover {\n",
              "      background-color: #E2EBFA;\n",
              "      box-shadow: 0px 1px 2px rgba(60, 64, 67, 0.3), 0px 1px 3px 1px rgba(60, 64, 67, 0.15);\n",
              "      fill: #174EA6;\n",
              "    }\n",
              "\n",
              "    [theme=dark] .colab-df-convert {\n",
              "      background-color: #3B4455;\n",
              "      fill: #D2E3FC;\n",
              "    }\n",
              "\n",
              "    [theme=dark] .colab-df-convert:hover {\n",
              "      background-color: #434B5C;\n",
              "      box-shadow: 0px 1px 3px 1px rgba(0, 0, 0, 0.15);\n",
              "      filter: drop-shadow(0px 1px 2px rgba(0, 0, 0, 0.3));\n",
              "      fill: #FFFFFF;\n",
              "    }\n",
              "  </style>\n",
              "\n",
              "      <script>\n",
              "        const buttonEl =\n",
              "          document.querySelector('#df-37640578-4211-4b41-b9b6-8f9fabf68c4c button.colab-df-convert');\n",
              "        buttonEl.style.display =\n",
              "          google.colab.kernel.accessAllowed ? 'block' : 'none';\n",
              "\n",
              "        async function convertToInteractive(key) {\n",
              "          const element = document.querySelector('#df-37640578-4211-4b41-b9b6-8f9fabf68c4c');\n",
              "          const dataTable =\n",
              "            await google.colab.kernel.invokeFunction('convertToInteractive',\n",
              "                                                     [key], {});\n",
              "          if (!dataTable) return;\n",
              "\n",
              "          const docLinkHtml = 'Like what you see? Visit the ' +\n",
              "            '<a target=\"_blank\" href=https://colab.research.google.com/notebooks/data_table.ipynb>data table notebook</a>'\n",
              "            + ' to learn more about interactive tables.';\n",
              "          element.innerHTML = '';\n",
              "          dataTable['output_type'] = 'display_data';\n",
              "          await google.colab.output.renderOutput(dataTable, element);\n",
              "          const docLink = document.createElement('div');\n",
              "          docLink.innerHTML = docLinkHtml;\n",
              "          element.appendChild(docLink);\n",
              "        }\n",
              "      </script>\n",
              "    </div>\n",
              "  </div>\n",
              "  "
            ]
          },
          "metadata": {},
          "execution_count": 65
        }
      ]
    },
    {
      "cell_type": "code",
      "source": [
        "model_location = '/content/drive/My Drive/2022 ECBM E4060/model/'\n",
        "\n",
        "#model_1 = tf.keras.models.load_model(model_location+ 'Model' + str(1) + '.hdf5')\n",
        "#model_2 = tf.keras.models.load_model(model_location+ 'Model' + str(2) + '.hdf5')\n",
        "model_1 = tf.keras.models.load_model(model_location+ 'PrecilyPathwayModel' + str(1) + '.hdf5')\n",
        "model_2 = tf.keras.models.load_model(model_location+ 'PrecilyPathwayModel' + str(1) + '.hdf5')\n",
        "model_3 = tf.keras.models.load_model(model_location+ 'PrecilyPathwayModel' + str(1) + '.hdf5')\n",
        "model_4 = tf.keras.models.load_model(model_location+ 'PrecilyPathwayModel' + str(1) + '.hdf5')\n",
        "model_5 = tf.keras.models.load_model(model_location+ 'PrecilyPathwayModel' + str(1) + '.hdf5')\n"
      ],
      "metadata": {
        "id": "-DP-tYVmeybe"
      },
      "execution_count": 68,
      "outputs": []
    },
    {
      "cell_type": "code",
      "source": [
        "from scipy.stats import pearsonr\n",
        "\n",
        "cors = []\n",
        "for d in drugs:\n",
        "  #get subset of data for each drug\n",
        "  subset = test_data.loc[test_data['1'] == d]\n",
        "  X_test_d = subset.iloc[:, 2:-1]\n",
        "  y_test_d = subset.iloc[:,-1]\n",
        "\n",
        "  #make predictions\n",
        "  y_pred_1 = model_1.predict(X_test_d, verbose = 0)\n",
        "  y_pred_2 = model_2.predict(X_test_d, verbose = 0)\n",
        "  y_pred_3 = model_3.predict(X_test_d, verbose = 0)\n",
        "  y_pred_4 = model_4.predict(X_test_d, verbose = 0)\n",
        "  y_pred_5 = model_5.predict(X_test_d, verbose = 0)\n",
        "\n",
        "  #average prediciton for each model\n",
        "  y_pred_mean = np.mean((y_pred_1.flatten().tolist(), \n",
        "                        y_pred_2.flatten().tolist(),\n",
        "                        y_pred_3.flatten().tolist(),\n",
        "                        y_pred_4.flatten().tolist(),\n",
        "                        y_pred_5.flatten().tolist()), axis = 0)\n",
        "\n",
        "\n",
        "  #correlation between true and observed\n",
        "  r, p = pearsonr(y_test_d, y_pred_mean)\n",
        "  cors.append(r)"
      ],
      "metadata": {
        "id": "Z2Q6iapUe2XN"
      },
      "execution_count": null,
      "outputs": []
    },
    {
      "cell_type": "code",
      "source": [
        "print(np.mean(cors))"
      ],
      "metadata": {
        "colab": {
          "base_uri": "https://localhost:8080/"
        },
        "id": "0yPaFAzPfus6",
        "outputId": "25d21c5c-1961-415e-c4e5-22cc4b0278b2"
      },
      "execution_count": 70,
      "outputs": [
        {
          "output_type": "stream",
          "name": "stdout",
          "text": [
            "0.4739690173467575\n"
          ]
        }
      ]
    },
    {
      "cell_type": "code",
      "source": [
        "#output as csv\n",
        "precily_path = pd.DataFrame(cors)\n",
        "precily_path.to_csv(DATA/'correlations_precily_path.csv')"
      ],
      "metadata": {
        "id": "bpcrRQZLf1sd"
      },
      "execution_count": 71,
      "outputs": []
    },
    {
      "cell_type": "markdown",
      "source": [
        "# Precily Pathways Data and Baseline Model"
      ],
      "metadata": {
        "id": "o3hYQ34ch4I2"
      }
    },
    {
      "cell_type": "code",
      "source": [
        "def model_builder(learning_rate = 0.001):\n",
        "  model = keras.Sequential()\n",
        "  model.add(keras.layers.Dense(1429, input_dim = 1429, activation = 'relu'))\n",
        "  model.add(keras.layers.Dense(units = 512, activation = 'relu'))\n",
        "  model.add(\n",
        "            keras.layers.Dropout(0.1)\n",
        "                \n",
        "        )\n",
        "\n",
        "  model.add(keras.layers.Dense(140, activation='relu'))\n",
        "  model.add(keras.layers.Dropout(0.1))\n",
        "  model.add(keras.layers.Dense(1))\n",
        "  \n",
        "  model.compile(optimizer=keras.optimizers.Adam(learning_rate=learning_rate),\n",
        "                loss='mean_squared_error') \n",
        "  return model"
      ],
      "metadata": {
        "id": "YjWe-Oc6h87R"
      },
      "execution_count": null,
      "outputs": []
    },
    {
      "cell_type": "code",
      "source": [
        "def compile_model(model, learning_rate = 0.0001):\n",
        "  model.compile(optimizer=keras.optimizers.Adam(learning_rate=learning_rate),\n",
        "                  loss='mean_absolute_error')\n",
        "  return model\n",
        "\n",
        "model = build_model()\n",
        "model = compile_model(model)\n",
        "print(model.summary())"
      ],
      "metadata": {
        "id": "i2xgCtVainYW"
      },
      "execution_count": null,
      "outputs": []
    },
    {
      "cell_type": "code",
      "source": [
        "%%time\n",
        "history = model.fit(X_train, y_train, \n",
        "                    batch_size = 128, epochs=20,\n",
        "                    verbose= 0)\n",
        "train_loss = history.history['loss']\n",
        "\n",
        "print('Train loss %.3f' %train_loss[-1])"
      ],
      "metadata": {
        "id": "qX1fgzG7i1JU"
      },
      "execution_count": null,
      "outputs": []
    },
    {
      "cell_type": "code",
      "source": [
        "test_loss = model.evaluate(X_test, y_test, verbose= 0)\n",
        "print('Test loss %.3f' %test_loss)"
      ],
      "metadata": {
        "id": "-UWRvp4Si3No"
      },
      "execution_count": null,
      "outputs": []
    },
    {
      "cell_type": "markdown",
      "source": [
        "## barplot"
      ],
      "metadata": {
        "id": "izFq6LgP4Zsh"
      }
    },
    {
      "cell_type": "code",
      "source": [
        "import numpy as np\n",
        "import matplotlib.pyplot as plt\n",
        " \n",
        "# set width of bar\n",
        "barWidth = 0.25\n",
        "fig = plt.subplots(figsize =(6, 4))\n",
        " \n",
        "# set height of bar\n",
        "Reported = [0.352, 0.498]\n",
        "Replicated = [0.231, 0.473]\n",
        "New = [0.632, 0]\n",
        " \n",
        "# Set position of bar on X axis\n",
        "br1 = np.arange(len(Reported))\n",
        "br2 = [x + barWidth for x in br1]\n",
        "br3 = [x + barWidth for x in br2]\n",
        " \n",
        "\n",
        "# Make the plot\n",
        "plt.bar(br1, Reported, color ='y', width = barWidth,\n",
        "        edgecolor ='grey', label ='Reported')\n",
        "plt.errorbar(br1, Reported, yerr = [0.028, 0.027],fmt=\"o\", color=\"r\")\n",
        "\n",
        "plt.bar(br2, Replicated, color ='g', width = barWidth,\n",
        "        edgecolor ='grey', label ='Replicated')\n",
        "plt.errorbar(br2, Replicated, yerr = [0.028, 0.026],fmt=\"o\", color=\"r\")\n",
        "\n",
        "\n",
        "plt.bar(br3, New, color ='b', width = barWidth,\n",
        "        edgecolor ='grey', label ='New')\n",
        "plt.errorbar(br3, New, yerr = [0.028, 0],fmt=\"o\", color=\"r\")\n",
        "\n",
        "\n",
        "# Adding Xticks\n",
        "plt.xlabel('Type of Precily Model', fontweight ='bold', fontsize = 15)\n",
        "plt.ylabel('Correlation (predicted vs observed)', fontweight ='bold', fontsize = 15)\n",
        "\n",
        "\n",
        "plt.xticks([r + barWidth for r in range(len(Reported))],\n",
        "        ['Precily Genes', 'Precily Pathways'])\n",
        "\n",
        "plt.legend()\n",
        "plt.show()"
      ],
      "metadata": {
        "colab": {
          "base_uri": "https://localhost:8080/",
          "height": 333
        },
        "id": "53DCgMh_4ZIl",
        "outputId": "14b2fbbb-489f-4be3-ca41-056a8cf71b32"
      },
      "execution_count": 1,
      "outputs": [
        {
          "output_type": "display_data",
          "data": {
            "text/plain": [
              "<Figure size 432x288 with 1 Axes>"
            ],
            "image/png": "[encoded data removed]"
          },
          "metadata": {
            "needs_background": "light"
          }
        }
      ]
    }
  ]
}